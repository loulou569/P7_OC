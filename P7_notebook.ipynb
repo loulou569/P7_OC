{
  "nbformat": 4,
  "nbformat_minor": 0,
  "metadata": {
    "colab": {
      "name": "P7_notebook.ipynb",
      "provenance": [],
      "authorship_tag": "ABX9TyMeEetxyg3aDfxHwounoGBU",
      "include_colab_link": true
    },
    "kernelspec": {
      "name": "python3",
      "display_name": "Python 3"
    },
    "language_info": {
      "name": "python"
    }
  },
  "cells": [
    {
      "cell_type": "markdown",
      "metadata": {
        "id": "view-in-github",
        "colab_type": "text"
      },
      "source": [
        "<a href=\"https://colab.research.google.com/github/loulou569/P7_OC/blob/V9-new_preprocessing/P7_notebook.ipynb\" target=\"_parent\"><img src=\"https://colab.research.google.com/assets/colab-badge.svg\" alt=\"Open In Colab\"/></a>"
      ]
    },
    {
      "cell_type": "markdown",
      "metadata": {
        "id": "lUdEqAE-2n-D"
      },
      "source": [
        "connection au drive"
      ]
    },
    {
      "cell_type": "code",
      "metadata": {
        "id": "K2D2JCWbWvLf",
        "colab": {
          "base_uri": "https://localhost:8080/"
        },
        "outputId": "5af75c60-5eca-4252-95fe-1f4775e5f32e"
      },
      "source": [
        "from google.colab import files\n",
        "from google.colab import drive\n",
        "\n",
        "drive.mount('/content/gdrive')"
      ],
      "execution_count": 2,
      "outputs": [
        {
          "output_type": "stream",
          "text": [
            "Mounted at /content/gdrive\n"
          ],
          "name": "stdout"
        }
      ]
    },
    {
      "cell_type": "markdown",
      "metadata": {
        "id": "usMGy4F12rbG"
      },
      "source": [
        "import de packages/fonctions"
      ]
    },
    {
      "cell_type": "code",
      "metadata": {
        "id": "FveZ7VeiWybI"
      },
      "source": [
        "# mettre le path où se trouve le fichier avec les fonctions\n",
        "import sys\n",
        "sys.path.append('/content/gdrive/My Drive/Colab Notebooks')\n",
        "\n",
        "import pandas as pd\n",
        "import numpy as np\n",
        "\n",
        "from sklearn.preprocessing import LabelEncoder\n",
        "from sklearn.preprocessing import StandardScaler\n",
        "\n",
        "import os\n",
        "\n",
        "import warnings\n",
        "warnings.filterwarnings('ignore')\n",
        "\n",
        "import matplotlib.pyplot as plt\n",
        "import seaborn as sns\n",
        "\n",
        "import gc\n",
        "\n",
        "import xgboost as xgb\n",
        "from xgboost import XGBClassifier\n",
        "from xgboost import XGBRegressor\n",
        "\n",
        "from sklearn.ensemble import RandomForestClassifier\n",
        "\n",
        "from sklearn.model_selection import GridSearchCV, train_test_split\n",
        "\n",
        "from sklearn.metrics import roc_auc_score, make_scorer\n",
        "from sklearn.metrics import confusion_matrix, ConfusionMatrixDisplay\n",
        "\n",
        "from imblearn.under_sampling import RandomUnderSampler\n",
        "from imblearn.over_sampling import RandomOverSampler\n",
        "\n",
        "from fonctions import classify_with_gridsearchcv\n",
        "from fonctions import plot_parameter_exploration_reg"
      ],
      "execution_count": 3,
      "outputs": []
    },
    {
      "cell_type": "markdown",
      "metadata": {
        "id": "Esk9JN1p3K8h"
      },
      "source": [
        "# I - traitement de application_train et application_test"
      ]
    },
    {
      "cell_type": "markdown",
      "metadata": {
        "id": "_0BPAeiPXnth"
      },
      "source": [
        "import des dataset application_train.csv et application_test.csv"
      ]
    },
    {
      "cell_type": "code",
      "metadata": {
        "colab": {
          "base_uri": "https://localhost:8080/"
        },
        "id": "_aAz8MSoXunq",
        "outputId": "b94b99d7-cad4-4069-dcb7-f63f1b987e46"
      },
      "source": [
        "train_df = pd.read_csv('/content/gdrive/My Drive/application_train.csv')\n",
        "test_df = pd.read_csv('/content/gdrive/My Drive/application_test.csv')\n",
        "\n",
        "print(\"Le dataset train_df a {} lignes et {} colonnes\".format(\n",
        "    train_df.shape[0], train_df.shape[1]))\n",
        "print(\"Le dataset test_df a {} lignes et {} colonnes\".format(\n",
        "    test_df.shape[0], test_df.shape[1]))"
      ],
      "execution_count": 4,
      "outputs": [
        {
          "output_type": "stream",
          "text": [
            "Le dataset train_df a 307511 lignes et 122 colonnes\n",
            "Le dataset test_df a 48744 lignes et 121 colonnes\n"
          ],
          "name": "stdout"
        }
      ]
    },
    {
      "cell_type": "code",
      "metadata": {
        "colab": {
          "base_uri": "https://localhost:8080/"
        },
        "id": "mHXY0Q2pYVjk",
        "outputId": "88bbf0fa-d23e-489b-db20-cb741d64f2e9"
      },
      "source": [
        "train_df = train_df[train_df['CODE_GENDER']!='XNA']\n",
        "train_df = train_df[train_df['NAME_FAMILY_STATUS']!='Unknown']\n",
        "train_df = train_df[train_df['FLAG_MOBIL']==1]\n",
        "\n",
        "print(\"Le dataset train_df a {} lignes et {} colonnes\".format(\n",
        "    train_df.shape[0], train_df.shape[1]))"
      ],
      "execution_count": 5,
      "outputs": [
        {
          "output_type": "stream",
          "text": [
            "Le dataset train_df a 307504 lignes et 122 colonnes\n"
          ],
          "name": "stdout"
        }
      ]
    },
    {
      "cell_type": "markdown",
      "metadata": {
        "id": "rVBi6yx7Y4AJ"
      },
      "source": [
        "concaténation des données de test et d'entrainement"
      ]
    },
    {
      "cell_type": "code",
      "metadata": {
        "colab": {
          "base_uri": "https://localhost:8080/"
        },
        "id": "u-xeNqWIY7yj",
        "outputId": "046efd21-0692-4663-c072-07035890403c"
      },
      "source": [
        "test_df['TARGET'] = -1\n",
        "\n",
        "credit_df = pd.concat([train_df, test_df], axis = 0, ignore_index=True)\n",
        "print(\"Le dataset credit_df a {} lignes et {} colonnes\".format(\n",
        "    credit_df.shape[0], credit_df.shape[1]))"
      ],
      "execution_count": 6,
      "outputs": [
        {
          "output_type": "stream",
          "text": [
            "Le dataset credit_df a 356248 lignes et 122 colonnes\n"
          ],
          "name": "stdout"
        }
      ]
    },
    {
      "cell_type": "code",
      "metadata": {
        "colab": {
          "base_uri": "https://localhost:8080/"
        },
        "id": "YexWiscrZH5D",
        "outputId": "4cc3e128-afeb-4f73-9669-0476333108b8"
      },
      "source": [
        "del train_df, test_df\n",
        "gc.collect()"
      ],
      "execution_count": 7,
      "outputs": [
        {
          "output_type": "execute_result",
          "data": {
            "text/plain": [
              "50"
            ]
          },
          "metadata": {
            "tags": []
          },
          "execution_count": 7
        }
      ]
    },
    {
      "cell_type": "markdown",
      "metadata": {
        "id": "j9mzhnj2e6_b"
      },
      "source": [
        "sélection de certaines colonnes seulement"
      ]
    },
    {
      "cell_type": "code",
      "metadata": {
        "id": "61CBEoXNZlTl"
      },
      "source": [
        "cred_col = ['AMT_ANNUITY', 'AMT_CREDIT', 'AMT_GOODS_PRICE', 'AMT_INCOME_TOTAL',\n",
        "            'AMT_REQ_CREDIT_BUREAU_MON', 'AMT_REQ_CREDIT_BUREAU_QRT',  \n",
        "            'AMT_REQ_CREDIT_BUREAU_YEAR','APARTMENTS_AVG', 'APARTMENTS_MEDI', \n",
        "            'APARTMENTS_MODE', 'CNT_CHILDREN', 'CNT_FAM_MEMBERS', 'CODE_GENDER',  \n",
        "            'DAYS_BIRTH', 'DAYS_EMPLOYED', 'DAYS_ID_PUBLISH', \n",
        "            'DAYS_LAST_PHONE_CHANGE', 'DAYS_REGISTRATION', \n",
        "            'DEF_30_CNT_SOCIAL_CIRCLE', 'DEF_60_CNT_SOCIAL_CIRCLE', \n",
        "            'EMERGENCYSTATE_MODE', 'EXT_SOURCE_1', 'EXT_SOURCE_2', \n",
        "            'EXT_SOURCE_3', 'FLAG_CONT_MOBILE', 'FLAG_EMAIL', 'FLAG_EMP_PHONE', \n",
        "            'FLAG_MOBIL', 'FLAG_OWN_CAR', 'FLAG_OWN_REALTY', 'FLAG_PHONE', \n",
        "            'FLAG_WORK_PHONE', 'FONDKAPREMONT_MODE', 'HOUR_APPR_PROCESS_START', \n",
        "            'LIVE_CITY_NOT_WORK_CITY', 'LIVE_REGION_NOT_WORK_REGION',\n",
        "            'LIVINGAREA_AVG', 'LIVINGAREA_MEDI', 'LIVINGAREA_MODE',\n",
        "            'NAME_CONTRACT_TYPE', 'NAME_EDUCATION_TYPE', 'NAME_FAMILY_STATUS', \n",
        "            'NAME_HOUSING_TYPE', 'NAME_INCOME_TYPE', 'NAME_TYPE_SUITE', \n",
        "            'OBS_30_CNT_SOCIAL_CIRCLE', 'OBS_60_CNT_SOCIAL_CIRCLE',\n",
        "            'OCCUPATION_TYPE', 'ORGANIZATION_TYPE', 'OWN_CAR_AGE',\n",
        "            'REGION_POPULATION_RELATIVE', 'REGION_RATING_CLIENT',\n",
        "            'REGION_RATING_CLIENT_W_CITY', 'REG_CITY_NOT_LIVE_CITY',\n",
        "            'REG_CITY_NOT_WORK_CITY', 'REG_REGION_NOT_LIVE_REGION',\n",
        "            'REG_REGION_NOT_WORK_REGION', 'SK_ID_CURR', 'TARGET',\n",
        "            ]"
      ],
      "execution_count": 8,
      "outputs": []
    },
    {
      "cell_type": "code",
      "metadata": {
        "id": "s-ZImxUtZ_Y0"
      },
      "source": [
        "credit_df = credit_df[cred_col]"
      ],
      "execution_count": 9,
      "outputs": []
    },
    {
      "cell_type": "markdown",
      "metadata": {
        "id": "XNEz-f1ehDsD"
      },
      "source": [
        "définition de fonctions"
      ]
    },
    {
      "cell_type": "code",
      "metadata": {
        "id": "VHTSypLSaK38"
      },
      "source": [
        "def missing_data_col(df):\n",
        "    null_col_list = df.columns[df.isna().any()].tolist()\n",
        "    return null_col_list\n",
        "\n",
        "def convert_category(df):\n",
        "    for col in df:\n",
        "        le=LabelEncoder()\n",
        "        if df[col].dtype == 'object':\n",
        "            col_name = df[col].name\n",
        "            \n",
        "            # replace or mask the 'Nan' values if any before applying the laberEncoder\n",
        "            df[col_name] = df[col_name].factorize()[0]\n",
        "            # Apply LabelEncoder : fit and transform categorical object data types to numeric \n",
        "            le.fit(df[col_name])\n",
        "            df[col_name] = le.transform(df[col_name])\n",
        "        \n",
        "    # print(df.head())\n",
        "    return df\n",
        "\n",
        "def fill_missing_col(df, col, not_null_list):\n",
        "    \n",
        "    #Feature set\n",
        "    # Split sets into train and test\n",
        "    train  = df.loc[(df[col].notnull()==True)]# known COLUMN values\n",
        "    test = df.loc[(df[col].isnull()==True)]# null or unknown COLUMN values\n",
        "    \n",
        "    # missing values columns are stored in a target array\n",
        "    y = train[col] #.values\n",
        "    # print('len y ...', y)\n",
        "    # All the other values are stored in the feature array\n",
        "    X = train[not_null_list]   #.values[:, 1::]\n",
        "    # print('len X ...', X)\n",
        "    if len(df[col].value_counts()) < 25:\n",
        "        # Create and fit a model\n",
        "        #model = RandomForestClassifier(n_estimators=20, n_jobs=-1)\n",
        "        model = XGBClassifier(n_estimators=10, n_jobs=-1, random_state=101)\n",
        "    else:\n",
        "        #model = RandomForestRegressor(n_estimators=20, n_jobs=-1)\n",
        "        model =  XGBRegressor(n_estimators=10, n_jobs=-1, random_state=101)\n",
        "    \n",
        "    model.fit(X, y)\n",
        "    \n",
        "    # Use the fitted model to predict the missing values\n",
        "    pred_y = model.predict(test[not_null_list])\n",
        "    \n",
        "    # Assign those predictions to the full data set\n",
        "    df.loc[(df[col].isnull()), col] = pred_y \n",
        "    \n",
        "    del train, test, X, y\n",
        "    gc.collect()\n",
        "    \n",
        "    return df\n",
        "\n",
        "def data_preprocessing (df):\n",
        "    df = convert_category(df)\n",
        "    null_col_list = missing_data_col(df) \n",
        "    \n",
        "    # Get total column list \n",
        "    total_col_list = list(df.columns.values)\n",
        "    # Get columns without missing values\n",
        "    not_null_list = list(set(total_col_list) - set(null_col_list)) \n",
        "    #not_null_list\n",
        "    \n",
        "    #predicting missing values in age using Random Forest\n",
        "    for col in null_col_list:\n",
        "        print('Replacing missing value for :', col)\n",
        "        df = fill_missing_col(df, col, not_null_list)\n",
        "    \n",
        "    return df"
      ],
      "execution_count": 10,
      "outputs": []
    },
    {
      "cell_type": "markdown",
      "metadata": {
        "id": "0qFv4GbjhHIZ"
      },
      "source": [
        "preprocessing de credit_df"
      ]
    },
    {
      "cell_type": "code",
      "metadata": {
        "colab": {
          "base_uri": "https://localhost:8080/"
        },
        "id": "aagl-OEuaU0d",
        "outputId": "fa7ef9b1-50d3-4b18-84bb-f22424c1f61e"
      },
      "source": [
        "credit_df = data_preprocessing(credit_df)"
      ],
      "execution_count": 11,
      "outputs": [
        {
          "output_type": "stream",
          "text": [
            "Replacing missing value for : AMT_ANNUITY\n",
            "[06:31:06] WARNING: /workspace/src/objective/regression_obj.cu:152: reg:linear is now deprecated in favor of reg:squarederror.\n",
            "Replacing missing value for : AMT_GOODS_PRICE\n",
            "[06:31:11] WARNING: /workspace/src/objective/regression_obj.cu:152: reg:linear is now deprecated in favor of reg:squarederror.\n",
            "Replacing missing value for : AMT_REQ_CREDIT_BUREAU_MON\n",
            "Replacing missing value for : AMT_REQ_CREDIT_BUREAU_QRT\n",
            "Replacing missing value for : AMT_REQ_CREDIT_BUREAU_YEAR\n",
            "[06:32:36] WARNING: /workspace/src/objective/regression_obj.cu:152: reg:linear is now deprecated in favor of reg:squarederror.\n",
            "Replacing missing value for : APARTMENTS_AVG\n",
            "[06:32:40] WARNING: /workspace/src/objective/regression_obj.cu:152: reg:linear is now deprecated in favor of reg:squarederror.\n",
            "Replacing missing value for : APARTMENTS_MEDI\n",
            "[06:32:43] WARNING: /workspace/src/objective/regression_obj.cu:152: reg:linear is now deprecated in favor of reg:squarederror.\n",
            "Replacing missing value for : APARTMENTS_MODE\n",
            "[06:32:45] WARNING: /workspace/src/objective/regression_obj.cu:152: reg:linear is now deprecated in favor of reg:squarederror.\n",
            "Replacing missing value for : DEF_30_CNT_SOCIAL_CIRCLE\n",
            "Replacing missing value for : DEF_60_CNT_SOCIAL_CIRCLE\n",
            "Replacing missing value for : EXT_SOURCE_1\n",
            "[06:33:33] WARNING: /workspace/src/objective/regression_obj.cu:152: reg:linear is now deprecated in favor of reg:squarederror.\n",
            "Replacing missing value for : EXT_SOURCE_2\n",
            "[06:33:36] WARNING: /workspace/src/objective/regression_obj.cu:152: reg:linear is now deprecated in favor of reg:squarederror.\n",
            "Replacing missing value for : EXT_SOURCE_3\n",
            "[06:33:41] WARNING: /workspace/src/objective/regression_obj.cu:152: reg:linear is now deprecated in favor of reg:squarederror.\n",
            "Replacing missing value for : LIVINGAREA_AVG\n",
            "[06:33:45] WARNING: /workspace/src/objective/regression_obj.cu:152: reg:linear is now deprecated in favor of reg:squarederror.\n",
            "Replacing missing value for : LIVINGAREA_MEDI\n",
            "[06:33:48] WARNING: /workspace/src/objective/regression_obj.cu:152: reg:linear is now deprecated in favor of reg:squarederror.\n",
            "Replacing missing value for : LIVINGAREA_MODE\n",
            "[06:33:50] WARNING: /workspace/src/objective/regression_obj.cu:152: reg:linear is now deprecated in favor of reg:squarederror.\n",
            "Replacing missing value for : OBS_30_CNT_SOCIAL_CIRCLE\n",
            "[06:33:53] WARNING: /workspace/src/objective/regression_obj.cu:152: reg:linear is now deprecated in favor of reg:squarederror.\n",
            "Replacing missing value for : OBS_60_CNT_SOCIAL_CIRCLE\n",
            "[06:33:58] WARNING: /workspace/src/objective/regression_obj.cu:152: reg:linear is now deprecated in favor of reg:squarederror.\n",
            "Replacing missing value for : OWN_CAR_AGE\n",
            "[06:34:03] WARNING: /workspace/src/objective/regression_obj.cu:152: reg:linear is now deprecated in favor of reg:squarederror.\n"
          ],
          "name": "stdout"
        }
      ]
    },
    {
      "cell_type": "markdown",
      "metadata": {
        "id": "zcknTI7S22yZ"
      },
      "source": [
        "création des dataset default_loan et normal_loan"
      ]
    },
    {
      "cell_type": "code",
      "metadata": {
        "colab": {
          "base_uri": "https://localhost:8080/"
        },
        "id": "-sS40bQL22MJ",
        "outputId": "1b14e35e-8dc9-4144-fc55-91ddd1dfec3d"
      },
      "source": [
        "default_loan = credit_df[credit_df.TARGET == 1]\n",
        "normal_loan = credit_df[credit_df.TARGET == 0]\n",
        "\n",
        "print(\"Le dataset default_loan a {} lignes et {} colonnes\".format(\n",
        "    default_loan.shape[0], default_loan.shape[1]))\n",
        "print(\"Le dataset normal_loan a {} lignes et {} colonnes\".format(\n",
        "    normal_loan.shape[0], normal_loan.shape[1]))"
      ],
      "execution_count": 12,
      "outputs": [
        {
          "output_type": "stream",
          "text": [
            "Le dataset default_loan a 24825 lignes et 59 colonnes\n",
            "Le dataset normal_loan a 282679 lignes et 59 colonnes\n"
          ],
          "name": "stdout"
        }
      ]
    },
    {
      "cell_type": "markdown",
      "metadata": {
        "id": "95DaijFE3Os6"
      },
      "source": [
        "# II - traitement de bureau et bureau_balance"
      ]
    },
    {
      "cell_type": "markdown",
      "metadata": {
        "id": "ASSP1qXT3VXS"
      },
      "source": [
        "import de bureau.csv dans le dataset bureau_data"
      ]
    },
    {
      "cell_type": "code",
      "metadata": {
        "colab": {
          "base_uri": "https://localhost:8080/"
        },
        "id": "Tpr3QJZi3VXS",
        "outputId": "432b331a-2bac-42cc-f59a-0171800260c9"
      },
      "source": [
        "bureau_data = pd.read_csv('/content/gdrive/My Drive/bureau.csv')\n",
        "\n",
        "print(\"Le dataset bureau_data a {} lignes et {} colonnes\".format(\n",
        "    bureau_data.shape[0], bureau_data.shape[1]))"
      ],
      "execution_count": 13,
      "outputs": [
        {
          "output_type": "stream",
          "text": [
            "Le dataset bureau_data a 1716428 lignes et 17 colonnes\n"
          ],
          "name": "stdout"
        }
      ]
    },
    {
      "cell_type": "markdown",
      "metadata": {
        "id": "-dwtmBIt4Kjx"
      },
      "source": [
        "sélection des CREDIT_TYPE et CREDIT_ACTIVE les plus fréquents"
      ]
    },
    {
      "cell_type": "code",
      "metadata": {
        "id": "scsX79nV39sT"
      },
      "source": [
        "bureau_data = bureau_data.loc[(bureau_data['CREDIT_ACTIVE']!='Sold') & \n",
        "                              (bureau_data['CREDIT_ACTIVE']!='Bad debt')]\n",
        "bureau_data = bureau_data.loc[(bureau_data['CREDIT_TYPE']=='Consumer credit') | \n",
        "                              (bureau_data['CREDIT_TYPE']=='Credit card') | \n",
        "                              (bureau_data['CREDIT_TYPE']=='Car loan') | \n",
        "                              (bureau_data['CREDIT_TYPE']=='Mortgage')]"
      ],
      "execution_count": 14,
      "outputs": []
    },
    {
      "cell_type": "markdown",
      "metadata": {
        "id": "U_ky46HP4wKy"
      },
      "source": [
        "suppression des features qui ont le moins d'impact sur les transactions"
      ]
    },
    {
      "cell_type": "code",
      "metadata": {
        "id": "i5zHJUND4bUl"
      },
      "source": [
        "bureau_data = bureau_data[bureau_data['CREDIT_DAY_OVERDUE'] <=180]\n",
        "\n",
        "# Remove features that has less impact on the transations. \n",
        "# Here you need your intutions keeping the classification modeling in mind.\n",
        "bureau_data = bureau_data.drop(['DAYS_CREDIT','CREDIT_DAY_OVERDUE',\n",
        "                                'AMT_CREDIT_MAX_OVERDUE', 'AMT_ANNUITY',\n",
        "                                'CREDIT_CURRENCY','CNT_CREDIT_PROLONG', \n",
        "                                'CREDIT_ACTIVE', 'DAYS_CREDIT_ENDDATE',\n",
        "                                'DAYS_ENDDATE_FACT', 'DAYS_CREDIT_UPDATE',\n",
        "                                'CREDIT_TYPE'], axis=1) \n",
        "\n",
        "bureau_data = bureau_data.reset_index()\n",
        "bureau_data = bureau_data.drop(['index'], axis=1) "
      ],
      "execution_count": 15,
      "outputs": []
    },
    {
      "cell_type": "markdown",
      "metadata": {
        "id": "pnwY2wnF46HD"
      },
      "source": [
        "import de bureau_balance.csv dans le dataset bureau_balance_data"
      ]
    },
    {
      "cell_type": "code",
      "metadata": {
        "colab": {
          "base_uri": "https://localhost:8080/"
        },
        "id": "FNmeFxwI46HF",
        "outputId": "e6fea297-2cb1-4796-fe63-41007518f60f"
      },
      "source": [
        "bureau_balance_data = pd.read_csv('/content/gdrive/My Drive/bureau_balance.csv')\n",
        "\n",
        "print(\"Le dataset bureau_balance_data a {} lignes et {} colonnes\".format(\n",
        "    bureau_balance_data.shape[0], bureau_balance_data.shape[1]))"
      ],
      "execution_count": 16,
      "outputs": [
        {
          "output_type": "stream",
          "text": [
            "Le dataset bureau_balance_data a 27299925 lignes et 3 colonnes\n"
          ],
          "name": "stdout"
        }
      ]
    },
    {
      "cell_type": "markdown",
      "metadata": {
        "id": "IzXV4ntN5owA"
      },
      "source": [
        "sélection et arrangement de données"
      ]
    },
    {
      "cell_type": "code",
      "metadata": {
        "id": "7pJfFgbe5S93"
      },
      "source": [
        "# Discard 'Status' with negligible transaction\n",
        "bureau_balance_data = \\\n",
        "bureau_balance_data.loc[(bureau_balance_data['STATUS']=='C' ) | \n",
        "                        (bureau_balance_data['STATUS']=='0') | \n",
        "                        (bureau_balance_data['STATUS']=='X') | \n",
        "                        (bureau_balance_data['STATUS']==1)]\n",
        "\n",
        "# Lets create a column \"LATEST_MONTH\" to get transaction of the latest month in the record or dataset based on \"SK_ID_BUREAU\". \n",
        "# Based on 'LATEST_MONTH' we will select or extract the corresponding status in a new field 'BUREAU_BALANCE_STATUS' \n",
        "# and store \"Null\" value in records other than latest status. \n",
        "# Finally we will drop all thoese records with null values. This will gives us records with latest transaction status.\n",
        "\n",
        "bureau_balance_data['LATEST_MONTH'] = bureau_balance_data.groupby(\n",
        "    ['SK_ID_BUREAU'])['MONTHS_BALANCE'].transform(max)\n",
        "bureau_balance_data['BUREAU_BALANCE_STATUS'] = np.where(\n",
        "    (bureau_balance_data['MONTHS_BALANCE']==bureau_balance_data['LATEST_MONTH']), \n",
        "    bureau_balance_data['STATUS'], \n",
        "    np.nan)\n",
        "\n",
        "# Drop all the rows with 'NaN' values. This will leave only single row for each 'SK_ID_BUREAU'.\n",
        "bureau_balance_data = bureau_balance_data.dropna()\n",
        "\n",
        "bureau_balance_data = bureau_balance_data.drop(\n",
        "    ['LATEST_MONTH', 'BUREAU_BALANCE_STATUS', 'MONTHS_BALANCE'], axis = 1) \n",
        "# bureau_balance_data.info()"
      ],
      "execution_count": 17,
      "outputs": []
    },
    {
      "cell_type": "markdown",
      "metadata": {
        "id": "OPR9Iy5R5wmV"
      },
      "source": [
        "fusion de bureau_data et bureau_balance_data dans bureau_result"
      ]
    },
    {
      "cell_type": "code",
      "metadata": {
        "colab": {
          "base_uri": "https://localhost:8080/"
        },
        "id": "SKN-qOq0521y",
        "outputId": "6d120d0d-08d2-4847-eaf9-ecd9f381890a"
      },
      "source": [
        "bureau_result = pd.merge(bureau_data,\n",
        "                         bureau_balance_data[[ 'SK_ID_BUREAU', 'STATUS']],\n",
        "                         on='SK_ID_BUREAU', \n",
        "                         how='left')\n",
        "\n",
        "print(\"Le dataset bureau_result a {} lignes et {} colonnes\".format(\n",
        "    bureau_result.shape[0], bureau_result.shape[1]))"
      ],
      "execution_count": 18,
      "outputs": [
        {
          "output_type": "stream",
          "text": [
            "Le dataset bureau_result a 1692546 lignes et 7 colonnes\n"
          ],
          "name": "stdout"
        }
      ]
    },
    {
      "cell_type": "code",
      "metadata": {
        "colab": {
          "base_uri": "https://localhost:8080/"
        },
        "id": "zeOrn8uX6WXW",
        "outputId": "d4d0e388-f44f-4f1f-d055-a28a51259a78"
      },
      "source": [
        "print(bureau_result.columns)"
      ],
      "execution_count": 19,
      "outputs": [
        {
          "output_type": "stream",
          "text": [
            "Index(['SK_ID_CURR', 'SK_ID_BUREAU', 'AMT_CREDIT_SUM', 'AMT_CREDIT_SUM_DEBT',\n",
            "       'AMT_CREDIT_SUM_LIMIT', 'AMT_CREDIT_SUM_OVERDUE', 'STATUS'],\n",
            "      dtype='object')\n"
          ],
          "name": "stdout"
        }
      ]
    },
    {
      "cell_type": "markdown",
      "metadata": {
        "id": "WAHFrFPc6koD"
      },
      "source": [
        "opération sur les données en regroupant par 'SK_ID_CURR' "
      ]
    },
    {
      "cell_type": "code",
      "metadata": {
        "id": "F2ywGzC16GkQ"
      },
      "source": [
        "new_col =['SK_ID_CURR']\n",
        "select_col = ['AMT_CREDIT_SUM', 'AMT_CREDIT_SUM_DEBT', 'AMT_CREDIT_SUM_LIMIT']\n",
        "\n",
        "for col in select_col:\n",
        "    bureau_result['BUREAU_MEAN_'+col] = bureau_result.groupby(\n",
        "        ['SK_ID_CURR'])[col].transform('sum')\n",
        "    new_col.append('BUREAU_MEAN_'+col)\n",
        "\n",
        "bureau_result = bureau_result[new_col]\n",
        "\n",
        "bureau_result.drop_duplicates(keep = 'first',inplace = True)"
      ],
      "execution_count": 20,
      "outputs": []
    },
    {
      "cell_type": "markdown",
      "metadata": {
        "id": "alyxKEob6yuk"
      },
      "source": [
        "fusion avec credit_df"
      ]
    },
    {
      "cell_type": "code",
      "metadata": {
        "colab": {
          "base_uri": "https://localhost:8080/"
        },
        "id": "BN3seEBq648n",
        "outputId": "638feacd-08b8-4578-ef7a-caafbeb0cb71"
      },
      "source": [
        "credit_df = pd.merge(credit_df, bureau_result, on='SK_ID_CURR', how='left')\n",
        "\n",
        "del bureau_result, bureau_data, bureau_balance_data\n",
        "gc.collect()\n",
        "\n",
        "print(\"Le dataset credit_df a {} lignes et {} colonnes\".format(\n",
        "    credit_df.shape[0], credit_df.shape[1]))"
      ],
      "execution_count": 21,
      "outputs": [
        {
          "output_type": "stream",
          "text": [
            "Le dataset credit_df a 356248 lignes et 62 colonnes\n"
          ],
          "name": "stdout"
        }
      ]
    },
    {
      "cell_type": "markdown",
      "metadata": {
        "id": "eqhinmvP7vW2"
      },
      "source": [
        "# III - traitement de previous_application, POS_CASH_balance, credit_card_balance et installments_payments"
      ]
    },
    {
      "cell_type": "markdown",
      "metadata": {
        "id": "sAxTSsjw7-7c"
      },
      "source": [
        "import de previous_application.csv dans le dataset previous_application_data"
      ]
    },
    {
      "cell_type": "code",
      "metadata": {
        "colab": {
          "base_uri": "https://localhost:8080/"
        },
        "id": "1bp0oY5_7_UJ",
        "outputId": "5699379d-6257-48ac-beea-dee1c9d9c091"
      },
      "source": [
        "previous_application_data = \\\n",
        "pd.read_csv('/content/gdrive/My Drive/previous_application.csv')\n",
        "\n",
        "print(\"Le dataset previous_application_data a {} lignes et {} colonnes\".format(\n",
        "    previous_application_data.shape[0], previous_application_data.shape[1]))"
      ],
      "execution_count": 22,
      "outputs": [
        {
          "output_type": "stream",
          "text": [
            "Le dataset previous_application_data a 1670214 lignes et 37 colonnes\n"
          ],
          "name": "stdout"
        }
      ]
    },
    {
      "cell_type": "markdown",
      "metadata": {
        "id": "3Ve6Ea6a8b6j"
      },
      "source": [
        "sélection de certaines colonnes"
      ]
    },
    {
      "cell_type": "code",
      "metadata": {
        "id": "ZCi-sTZQ8bam"
      },
      "source": [
        "prev_col = ['SK_ID_PREV', 'SK_ID_CURR', 'NAME_CONTRACT_TYPE', 'AMT_ANNUITY',\n",
        "            'AMT_APPLICATION', 'AMT_CREDIT', 'AMT_GOODS_PRICE', \n",
        "            'NAME_CONTRACT_STATUS', 'DAYS_DECISION', 'NAME_PAYMENT_TYPE', \n",
        "            'NAME_CLIENT_TYPE', 'NAME_GOODS_CATEGORY', 'NAME_PORTFOLIO',\n",
        "            'NAME_PRODUCT_TYPE', 'CHANNEL_TYPE', 'SELLERPLACE_AREA',\n",
        "            'NAME_SELLER_INDUSTRY']\n",
        "\n",
        "previous_application_data = previous_application_data[prev_col] "
      ],
      "execution_count": 23,
      "outputs": []
    },
    {
      "cell_type": "markdown",
      "metadata": {
        "id": "vqhSP5SX8qOa"
      },
      "source": [
        "import de POS_CASH_balance.csv dans le dataset pos_cash_balance_data"
      ]
    },
    {
      "cell_type": "code",
      "metadata": {
        "colab": {
          "base_uri": "https://localhost:8080/"
        },
        "id": "jiD-hZnC8qOb",
        "outputId": "1ecf25d9-9d48-474e-d792-38364a5fe2b9"
      },
      "source": [
        "pos_cash_balance_data = \\\n",
        "pd.read_csv('/content/gdrive/My Drive/POS_CASH_balance.csv')\n",
        "\n",
        "print(\"Le dataset pos_cash_balance_data a {} lignes et {} colonnes\".format(\n",
        "    pos_cash_balance_data.shape[0], pos_cash_balance_data.shape[1]))"
      ],
      "execution_count": 24,
      "outputs": [
        {
          "output_type": "stream",
          "text": [
            "Le dataset pos_cash_balance_data a 10001358 lignes et 8 colonnes\n"
          ],
          "name": "stdout"
        }
      ]
    },
    {
      "cell_type": "markdown",
      "metadata": {
        "id": "9BKR_Ya59clj"
      },
      "source": [
        "sélection de données"
      ]
    },
    {
      "cell_type": "code",
      "metadata": {
        "id": "5tfnUHPJ9K9o"
      },
      "source": [
        "# Select records with 'Active', 'Completed' and 'Signed' status which are more than 10% of total transactions\n",
        "pos_cash_balance_data = \\\n",
        "pos_cash_balance_data.loc[(pos_cash_balance_data['NAME_CONTRACT_STATUS']=='Active') | \n",
        "                          (pos_cash_balance_data['NAME_CONTRACT_STATUS']=='Completed') | \n",
        "                          (pos_cash_balance_data['NAME_CONTRACT_STATUS']=='Signed')]\n",
        "\n",
        "# select records where Days past Due is less than 365 days i.e 365.243\n",
        "pos_cash_balance_data = pos_cash_balance_data[pos_cash_balance_data['SK_DPD']<=365243]"
      ],
      "execution_count": 25,
      "outputs": []
    },
    {
      "cell_type": "markdown",
      "metadata": {
        "id": "O1s3QRNM9eR8"
      },
      "source": [
        "suppression de colonnes et fusion avec previous_application_data"
      ]
    },
    {
      "cell_type": "code",
      "metadata": {
        "colab": {
          "base_uri": "https://localhost:8080/"
        },
        "id": "fnGBse7R9f31",
        "outputId": "73277c3a-b5e2-47c6-b0dd-0ed11e289516"
      },
      "source": [
        "pos_cash_balance_data = pos_cash_balance_data.drop(\n",
        "    ['SK_DPD',  'SK_DPD_DEF', 'CNT_INSTALMENT_FUTURE', 'NAME_CONTRACT_STATUS',\n",
        "     'MONTHS_BALANCE' ], axis = 1) \n",
        "\n",
        "# Drop Duplicate records\n",
        "pos_cash_balance_data.drop_duplicates(keep='first', inplace=True)\n",
        "\n",
        "previous_result = pd.merge(previous_application_data, pos_cash_balance_data, \n",
        "                           on= ['SK_ID_PREV','SK_ID_CURR'], how='left')\n",
        "\n",
        "del previous_application_data, pos_cash_balance_data\n",
        "gc.collect()"
      ],
      "execution_count": 26,
      "outputs": [
        {
          "output_type": "execute_result",
          "data": {
            "text/plain": [
              "0"
            ]
          },
          "metadata": {
            "tags": []
          },
          "execution_count": 26
        }
      ]
    },
    {
      "cell_type": "markdown",
      "metadata": {
        "id": "cuyUdduQ-AqQ"
      },
      "source": [
        "import de credit_card_balance.csv dans le dataset credit_card_balance_data"
      ]
    },
    {
      "cell_type": "code",
      "metadata": {
        "colab": {
          "base_uri": "https://localhost:8080/"
        },
        "id": "hjvhCY8K-AqR",
        "outputId": "c1f045a9-907c-4efc-8cb6-8227e9bc576c"
      },
      "source": [
        "credit_card_balance_data = \\\n",
        "pd.read_csv('/content/gdrive/My Drive/credit_card_balance.csv')\n",
        "\n",
        "print(\"Le dataset credit_card_balance_data a {} lignes et {} colonnes\".format(\n",
        "    credit_card_balance_data.shape[0], credit_card_balance_data.shape[1]))"
      ],
      "execution_count": 27,
      "outputs": [
        {
          "output_type": "stream",
          "text": [
            "Le dataset credit_card_balance_data a 3840312 lignes et 23 colonnes\n"
          ],
          "name": "stdout"
        }
      ]
    },
    {
      "cell_type": "markdown",
      "metadata": {
        "id": "dO4u4iaT-ODt"
      },
      "source": [
        "sélection de données"
      ]
    },
    {
      "cell_type": "code",
      "metadata": {
        "id": "VfyQZ96X-OdO"
      },
      "source": [
        "credit_card_balance_data = \\\n",
        "credit_card_balance_data.loc[(credit_card_balance_data['NAME_CONTRACT_STATUS']=='Active') | \n",
        "                             (credit_card_balance_data['NAME_CONTRACT_STATUS']=='Completed') | \n",
        "                             (credit_card_balance_data['NAME_CONTRACT_STATUS']=='Signed') ]\n",
        "\n",
        "credit_card_balance_data = \\\n",
        "credit_card_balance_data[credit_card_balance_data['SK_DPD']<=365243]"
      ],
      "execution_count": 28,
      "outputs": []
    },
    {
      "cell_type": "markdown",
      "metadata": {
        "id": "oscfFXBi-fnG"
      },
      "source": [
        "création de nouvelles colonnes"
      ]
    },
    {
      "cell_type": "code",
      "metadata": {
        "id": "IsBCuwFD-h5h"
      },
      "source": [
        "new_col =['SK_ID_PREV','SK_ID_CURR']\n",
        "select_col = ['AMT_BALANCE', 'AMT_PAYMENT_TOTAL_CURRENT', 'AMT_RECIVABLE', \n",
        "              'AMT_TOTAL_RECEIVABLE']\n",
        "\n",
        "for col in select_col:\n",
        "    credit_card_balance_data['CC_'+col] = credit_card_balance_data.groupby(\n",
        "        ['SK_ID_PREV','SK_ID_CURR'])[col].transform('mean')\n",
        "    new_col.append ('CC_'+col)\n",
        "\n",
        "\n",
        "credit_card_balance_data = credit_card_balance_data[new_col]"
      ],
      "execution_count": 29,
      "outputs": []
    },
    {
      "cell_type": "markdown",
      "metadata": {
        "id": "bONR4FZv-rIA"
      },
      "source": [
        "suppression de colonnes"
      ]
    },
    {
      "cell_type": "code",
      "metadata": {
        "id": "zYKw8Gq1-qng"
      },
      "source": [
        "credit_card_balance_data.drop_duplicates(keep='first', inplace=True)"
      ],
      "execution_count": 30,
      "outputs": []
    },
    {
      "cell_type": "markdown",
      "metadata": {
        "id": "lymkv3sQ_CkW"
      },
      "source": [
        "fusion avec previous_results"
      ]
    },
    {
      "cell_type": "code",
      "metadata": {
        "colab": {
          "base_uri": "https://localhost:8080/"
        },
        "id": "KBhOcefm_GgB",
        "outputId": "75e43a76-01a4-4bbd-aea9-1debb2952b0e"
      },
      "source": [
        "previous_result = pd.merge(previous_result, credit_card_balance_data, \n",
        "                           on=['SK_ID_PREV','SK_ID_CURR'], how='left')  \n",
        "\n",
        "del credit_card_balance_data\n",
        "gc.collect()"
      ],
      "execution_count": 31,
      "outputs": [
        {
          "output_type": "execute_result",
          "data": {
            "text/plain": [
              "100"
            ]
          },
          "metadata": {
            "tags": []
          },
          "execution_count": 31
        }
      ]
    },
    {
      "cell_type": "markdown",
      "metadata": {
        "id": "VcKk9XDUBN-q"
      },
      "source": [
        "import de installments_payments.csv dans le dataset installments_payments_data"
      ]
    },
    {
      "cell_type": "code",
      "metadata": {
        "colab": {
          "base_uri": "https://localhost:8080/"
        },
        "id": "SkYrzrfIBN-r",
        "outputId": "18638d7e-71c7-4123-a3ec-5dd40ea069e5"
      },
      "source": [
        "installments_payments_data = \\\n",
        "pd.read_csv('/content/gdrive/My Drive/installments_payments.csv')\n",
        "\n",
        "print(\"Le dataset installments_payments_data a {} lignes et {} colonnes\".format(\n",
        "    installments_payments_data.shape[0], installments_payments_data.shape[1]))"
      ],
      "execution_count": 32,
      "outputs": [
        {
          "output_type": "stream",
          "text": [
            "Le dataset installments_payments_data a 13605401 lignes et 8 colonnes\n"
          ],
          "name": "stdout"
        }
      ]
    },
    {
      "cell_type": "markdown",
      "metadata": {
        "id": "sBVNq_FPBffr"
      },
      "source": [
        "sélection de données"
      ]
    },
    {
      "cell_type": "code",
      "metadata": {
        "id": "5T2rlOF_BhIa"
      },
      "source": [
        "installments_payments_data = \\\n",
        "installments_payments_data.loc[(installments_payments_data['NUM_INSTALMENT_VERSION']==0.0) | \n",
        "                               (installments_payments_data['NUM_INSTALMENT_VERSION']==1.0) | \n",
        "                               (installments_payments_data['NUM_INSTALMENT_VERSION']==2.0) | \n",
        "                               (installments_payments_data['NUM_INSTALMENT_VERSION']==3.0)]\n",
        "                               \n",
        "installments_payments_data['DELAY_INSTALMENT_PAYMENT'] = \\\n",
        "installments_payments_data['DAYS_INSTALMENT'] - \\\n",
        "installments_payments_data['DAYS_ENTRY_PAYMENT']\n",
        "\n",
        "installments_payments_data = \\\n",
        "installments_payments_data[installments_payments_data['DELAY_INSTALMENT_PAYMENT']>-181]"
      ],
      "execution_count": 33,
      "outputs": []
    },
    {
      "cell_type": "markdown",
      "metadata": {
        "id": "sXQB_wgqB1JO"
      },
      "source": [
        "sélection de colonnes et suppression des doublons"
      ]
    },
    {
      "cell_type": "code",
      "metadata": {
        "colab": {
          "base_uri": "https://localhost:8080/",
          "height": 0
        },
        "id": "GsP7_b_7B1m2",
        "outputId": "a2acd377-f8c0-4278-a52f-6b6ea0ea2447"
      },
      "source": [
        "installments_col  = ['SK_ID_PREV', 'SK_ID_CURR', 'AMT_INSTALMENT', 'AMT_PAYMENT',\n",
        "                     'DELAY_INSTALMENT_PAYMENT']\n",
        "installments_payments_data = installments_payments_data[installments_col]\n",
        "\n",
        "installments_payments_data.drop_duplicates(keep='first', inplace=True)\n",
        "\n",
        "installments_payments_data.loc[installments_payments_data.duplicated(), :]"
      ],
      "execution_count": 34,
      "outputs": [
        {
          "output_type": "execute_result",
          "data": {
            "text/html": [
              "<div>\n",
              "<style scoped>\n",
              "    .dataframe tbody tr th:only-of-type {\n",
              "        vertical-align: middle;\n",
              "    }\n",
              "\n",
              "    .dataframe tbody tr th {\n",
              "        vertical-align: top;\n",
              "    }\n",
              "\n",
              "    .dataframe thead th {\n",
              "        text-align: right;\n",
              "    }\n",
              "</style>\n",
              "<table border=\"1\" class=\"dataframe\">\n",
              "  <thead>\n",
              "    <tr style=\"text-align: right;\">\n",
              "      <th></th>\n",
              "      <th>SK_ID_PREV</th>\n",
              "      <th>SK_ID_CURR</th>\n",
              "      <th>AMT_INSTALMENT</th>\n",
              "      <th>AMT_PAYMENT</th>\n",
              "      <th>DELAY_INSTALMENT_PAYMENT</th>\n",
              "    </tr>\n",
              "  </thead>\n",
              "  <tbody>\n",
              "  </tbody>\n",
              "</table>\n",
              "</div>"
            ],
            "text/plain": [
              "Empty DataFrame\n",
              "Columns: [SK_ID_PREV, SK_ID_CURR, AMT_INSTALMENT, AMT_PAYMENT, DELAY_INSTALMENT_PAYMENT]\n",
              "Index: []"
            ]
          },
          "metadata": {
            "tags": []
          },
          "execution_count": 34
        }
      ]
    },
    {
      "cell_type": "markdown",
      "metadata": {
        "id": "foKNPhFSCJTc"
      },
      "source": [
        "fusion avec previous_application"
      ]
    },
    {
      "cell_type": "code",
      "metadata": {
        "colab": {
          "base_uri": "https://localhost:8080/"
        },
        "id": "SoZ5diWlCMWr",
        "outputId": "9e8d6bd1-5586-49ff-f2a7-d1859f0ab262"
      },
      "source": [
        "previous_result = pd.merge(previous_result, installments_payments_data,  \n",
        "                           on= ['SK_ID_PREV','SK_ID_CURR'], how='left')\n",
        "\n",
        "del installments_payments_data\n",
        "gc.collect()"
      ],
      "execution_count": 35,
      "outputs": [
        {
          "output_type": "execute_result",
          "data": {
            "text/plain": [
              "0"
            ]
          },
          "metadata": {
            "tags": []
          },
          "execution_count": 35
        }
      ]
    },
    {
      "cell_type": "markdown",
      "metadata": {
        "id": "OyarvJeECUfu"
      },
      "source": [
        "sélection de colonnes"
      ]
    },
    {
      "cell_type": "code",
      "metadata": {
        "colab": {
          "base_uri": "https://localhost:8080/",
          "height": 0
        },
        "id": "AWjHdkGpCWM8",
        "outputId": "6f5184d6-7ac6-4250-e979-d455c6881d79"
      },
      "source": [
        "select_col = ['SK_ID_PREV', 'SK_ID_CURR', 'NAME_CONTRACT_TYPE', 'AMT_ANNUITY',\n",
        "              'AMT_APPLICATION', 'AMT_CREDIT', 'AMT_GOODS_PRICE',\n",
        "              'NAME_CONTRACT_STATUS', 'DAYS_DECISION', 'NAME_PAYMENT_TYPE',\n",
        "              'NAME_CLIENT_TYPE', 'NAME_GOODS_CATEGORY', \n",
        "              'AMT_INSTALMENT', 'AMT_PAYMENT']\n",
        "\n",
        "previous_result = previous_result[select_col]\n",
        "\n",
        "previous_result.head()"
      ],
      "execution_count": 36,
      "outputs": [
        {
          "output_type": "execute_result",
          "data": {
            "text/html": [
              "<div>\n",
              "<style scoped>\n",
              "    .dataframe tbody tr th:only-of-type {\n",
              "        vertical-align: middle;\n",
              "    }\n",
              "\n",
              "    .dataframe tbody tr th {\n",
              "        vertical-align: top;\n",
              "    }\n",
              "\n",
              "    .dataframe thead th {\n",
              "        text-align: right;\n",
              "    }\n",
              "</style>\n",
              "<table border=\"1\" class=\"dataframe\">\n",
              "  <thead>\n",
              "    <tr style=\"text-align: right;\">\n",
              "      <th></th>\n",
              "      <th>SK_ID_PREV</th>\n",
              "      <th>SK_ID_CURR</th>\n",
              "      <th>NAME_CONTRACT_TYPE</th>\n",
              "      <th>AMT_ANNUITY</th>\n",
              "      <th>AMT_APPLICATION</th>\n",
              "      <th>AMT_CREDIT</th>\n",
              "      <th>AMT_GOODS_PRICE</th>\n",
              "      <th>NAME_CONTRACT_STATUS</th>\n",
              "      <th>DAYS_DECISION</th>\n",
              "      <th>NAME_PAYMENT_TYPE</th>\n",
              "      <th>NAME_CLIENT_TYPE</th>\n",
              "      <th>NAME_GOODS_CATEGORY</th>\n",
              "      <th>AMT_INSTALMENT</th>\n",
              "      <th>AMT_PAYMENT</th>\n",
              "    </tr>\n",
              "  </thead>\n",
              "  <tbody>\n",
              "    <tr>\n",
              "      <th>0</th>\n",
              "      <td>2030495</td>\n",
              "      <td>271877</td>\n",
              "      <td>Consumer loans</td>\n",
              "      <td>1730.430</td>\n",
              "      <td>17145.0</td>\n",
              "      <td>17145.0</td>\n",
              "      <td>17145.0</td>\n",
              "      <td>Approved</td>\n",
              "      <td>-73</td>\n",
              "      <td>Cash through the bank</td>\n",
              "      <td>Repeater</td>\n",
              "      <td>Mobile</td>\n",
              "      <td>17284.275</td>\n",
              "      <td>17284.275</td>\n",
              "    </tr>\n",
              "    <tr>\n",
              "      <th>1</th>\n",
              "      <td>2030495</td>\n",
              "      <td>271877</td>\n",
              "      <td>Consumer loans</td>\n",
              "      <td>1730.430</td>\n",
              "      <td>17145.0</td>\n",
              "      <td>17145.0</td>\n",
              "      <td>17145.0</td>\n",
              "      <td>Approved</td>\n",
              "      <td>-73</td>\n",
              "      <td>Cash through the bank</td>\n",
              "      <td>Repeater</td>\n",
              "      <td>Mobile</td>\n",
              "      <td>17284.275</td>\n",
              "      <td>17284.275</td>\n",
              "    </tr>\n",
              "    <tr>\n",
              "      <th>2</th>\n",
              "      <td>2802425</td>\n",
              "      <td>108129</td>\n",
              "      <td>Cash loans</td>\n",
              "      <td>25188.615</td>\n",
              "      <td>607500.0</td>\n",
              "      <td>679671.0</td>\n",
              "      <td>607500.0</td>\n",
              "      <td>Approved</td>\n",
              "      <td>-164</td>\n",
              "      <td>XNA</td>\n",
              "      <td>Repeater</td>\n",
              "      <td>XNA</td>\n",
              "      <td>25188.615</td>\n",
              "      <td>25188.615</td>\n",
              "    </tr>\n",
              "    <tr>\n",
              "      <th>3</th>\n",
              "      <td>2802425</td>\n",
              "      <td>108129</td>\n",
              "      <td>Cash loans</td>\n",
              "      <td>25188.615</td>\n",
              "      <td>607500.0</td>\n",
              "      <td>679671.0</td>\n",
              "      <td>607500.0</td>\n",
              "      <td>Approved</td>\n",
              "      <td>-164</td>\n",
              "      <td>XNA</td>\n",
              "      <td>Repeater</td>\n",
              "      <td>XNA</td>\n",
              "      <td>25188.615</td>\n",
              "      <td>25188.615</td>\n",
              "    </tr>\n",
              "    <tr>\n",
              "      <th>4</th>\n",
              "      <td>2802425</td>\n",
              "      <td>108129</td>\n",
              "      <td>Cash loans</td>\n",
              "      <td>25188.615</td>\n",
              "      <td>607500.0</td>\n",
              "      <td>679671.0</td>\n",
              "      <td>607500.0</td>\n",
              "      <td>Approved</td>\n",
              "      <td>-164</td>\n",
              "      <td>XNA</td>\n",
              "      <td>Repeater</td>\n",
              "      <td>XNA</td>\n",
              "      <td>25188.615</td>\n",
              "      <td>25188.615</td>\n",
              "    </tr>\n",
              "  </tbody>\n",
              "</table>\n",
              "</div>"
            ],
            "text/plain": [
              "   SK_ID_PREV  SK_ID_CURR  ... AMT_INSTALMENT  AMT_PAYMENT\n",
              "0     2030495      271877  ...      17284.275    17284.275\n",
              "1     2030495      271877  ...      17284.275    17284.275\n",
              "2     2802425      108129  ...      25188.615    25188.615\n",
              "3     2802425      108129  ...      25188.615    25188.615\n",
              "4     2802425      108129  ...      25188.615    25188.615\n",
              "\n",
              "[5 rows x 14 columns]"
            ]
          },
          "metadata": {
            "tags": []
          },
          "execution_count": 36
        }
      ]
    },
    {
      "cell_type": "code",
      "metadata": {
        "id": "M_nObFgNChWg"
      },
      "source": [
        "previous_result = previous_result.loc[(previous_result['NAME_CONTRACT_TYPE']!='XNA')]\n",
        "previous_result = previous_result.loc[(previous_result['NAME_CLIENT_TYPE']!='XNA')]\n",
        "\n",
        "previous_result.drop_duplicates(keep='first', inplace=True)"
      ],
      "execution_count": 37,
      "outputs": []
    },
    {
      "cell_type": "code",
      "metadata": {
        "id": "TzmrgrETCq7Z"
      },
      "source": [
        "prev_col = ['SK_ID_CURR','NAME_CONTRACT_STATUS'] \n",
        "select_col_sum = ['AMT_ANNUITY', 'AMT_APPLICATION', 'AMT_CREDIT', \n",
        "                  'AMT_GOODS_PRICE','AMT_INSTALMENT', 'AMT_PAYMENT']\n",
        "for col in select_col_sum:\n",
        "    previous_result['PREV_'+ col] = previous_result.groupby(\n",
        "        ['SK_ID_CURR'])[col].transform('sum')\n",
        "    prev_col.append ('PREV_'+ col)\n",
        "    \n",
        "previous_result = previous_result[prev_col]\n",
        "\n",
        "previous_result.drop_duplicates(keep='first', inplace=True)"
      ],
      "execution_count": 38,
      "outputs": []
    },
    {
      "cell_type": "markdown",
      "metadata": {
        "id": "1AEvLyjJC1WT"
      },
      "source": [
        "fusion avec credit_df"
      ]
    },
    {
      "cell_type": "code",
      "metadata": {
        "colab": {
          "base_uri": "https://localhost:8080/"
        },
        "id": "4RET2bWLC6Xg",
        "outputId": "5dd76187-0118-4c8e-843e-936662bfd81f"
      },
      "source": [
        "credit_df = pd.merge(credit_df, previous_result, on='SK_ID_CURR', how='left')\n",
        "\n",
        "del previous_result\n",
        "gc.collect()"
      ],
      "execution_count": 39,
      "outputs": [
        {
          "output_type": "execute_result",
          "data": {
            "text/plain": [
              "100"
            ]
          },
          "metadata": {
            "tags": []
          },
          "execution_count": 39
        }
      ]
    },
    {
      "cell_type": "code",
      "metadata": {
        "colab": {
          "base_uri": "https://localhost:8080/"
        },
        "id": "kzvkkorSDDFX",
        "outputId": "299f514b-8665-4f02-fac2-7cb97569f1b3"
      },
      "source": [
        "cred_col = credit_df.columns.values\n",
        "credit_df =  credit_df[cred_col]\n",
        "print(\"Le dataset credit_df a {} lignes et {} colonnes\".format(\n",
        "    credit_df.shape[0], credit_df.shape[1]))"
      ],
      "execution_count": 40,
      "outputs": [
        {
          "output_type": "stream",
          "text": [
            "Le dataset credit_df a 627658 lignes et 69 colonnes\n"
          ],
          "name": "stdout"
        }
      ]
    },
    {
      "cell_type": "markdown",
      "metadata": {
        "id": "EMoZMX7KFXKv"
      },
      "source": [
        "# IV - preprocessing des données et feature engineering"
      ]
    },
    {
      "cell_type": "markdown",
      "metadata": {
        "id": "Jd8lwgY6Fm63"
      },
      "source": [
        "preprocessing"
      ]
    },
    {
      "cell_type": "code",
      "metadata": {
        "colab": {
          "base_uri": "https://localhost:8080/"
        },
        "id": "82uHSD77FoF3",
        "outputId": "c26422c5-fed3-45b4-b490-45942f95a092"
      },
      "source": [
        "credit_df = data_preprocessing(credit_df)"
      ],
      "execution_count": 41,
      "outputs": [
        {
          "output_type": "stream",
          "text": [
            "Replacing missing value for : BUREAU_MEAN_AMT_CREDIT_SUM\n",
            "[06:36:33] WARNING: /workspace/src/objective/regression_obj.cu:152: reg:linear is now deprecated in favor of reg:squarederror.\n",
            "Replacing missing value for : BUREAU_MEAN_AMT_CREDIT_SUM_DEBT\n",
            "[06:36:45] WARNING: /workspace/src/objective/regression_obj.cu:152: reg:linear is now deprecated in favor of reg:squarederror.\n",
            "Replacing missing value for : BUREAU_MEAN_AMT_CREDIT_SUM_LIMIT\n",
            "[06:36:56] WARNING: /workspace/src/objective/regression_obj.cu:152: reg:linear is now deprecated in favor of reg:squarederror.\n",
            "Replacing missing value for : PREV_AMT_ANNUITY\n",
            "[06:37:07] WARNING: /workspace/src/objective/regression_obj.cu:152: reg:linear is now deprecated in favor of reg:squarederror.\n",
            "Replacing missing value for : PREV_AMT_APPLICATION\n",
            "[06:37:20] WARNING: /workspace/src/objective/regression_obj.cu:152: reg:linear is now deprecated in favor of reg:squarederror.\n",
            "Replacing missing value for : PREV_AMT_CREDIT\n",
            "[06:37:32] WARNING: /workspace/src/objective/regression_obj.cu:152: reg:linear is now deprecated in favor of reg:squarederror.\n",
            "Replacing missing value for : PREV_AMT_GOODS_PRICE\n",
            "[06:37:45] WARNING: /workspace/src/objective/regression_obj.cu:152: reg:linear is now deprecated in favor of reg:squarederror.\n",
            "Replacing missing value for : PREV_AMT_INSTALMENT\n",
            "[06:37:58] WARNING: /workspace/src/objective/regression_obj.cu:152: reg:linear is now deprecated in favor of reg:squarederror.\n",
            "Replacing missing value for : PREV_AMT_PAYMENT\n",
            "[06:38:10] WARNING: /workspace/src/objective/regression_obj.cu:152: reg:linear is now deprecated in favor of reg:squarederror.\n"
          ],
          "name": "stdout"
        }
      ]
    },
    {
      "cell_type": "markdown",
      "metadata": {
        "id": "DAVOkK-LGm0q"
      },
      "source": [
        "séparation des données d'entrainement et de test de base"
      ]
    },
    {
      "cell_type": "code",
      "metadata": {
        "colab": {
          "base_uri": "https://localhost:8080/"
        },
        "id": "lrGCq2V3Gq1w",
        "outputId": "9ca03cc0-ffd7-4ff7-bb6b-a5b07b7699fa"
      },
      "source": [
        "train_df = credit_df.loc[(credit_df['TARGET']!=-1)]\n",
        "test_df = credit_df.loc[(credit_df['TARGET']==-1)]\n",
        "\n",
        "test_df = test_df.drop([\"TARGET\"], axis=1) \n",
        "\n",
        "del credit_df\n",
        "gc.collect()"
      ],
      "execution_count": 42,
      "outputs": [
        {
          "output_type": "execute_result",
          "data": {
            "text/plain": [
              "63"
            ]
          },
          "metadata": {
            "tags": []
          },
          "execution_count": 42
        }
      ]
    },
    {
      "cell_type": "markdown",
      "metadata": {
        "id": "QFuys9HmHBuM"
      },
      "source": [
        "sélection des feature importants"
      ]
    },
    {
      "cell_type": "code",
      "metadata": {
        "colab": {
          "base_uri": "https://localhost:8080/",
          "height": 0
        },
        "id": "_M4BSzG8HEdY",
        "outputId": "8fbfdbbf-3acc-4169-ed40-63bc87d8b64b"
      },
      "source": [
        "train_Y = train_df['TARGET']                   \n",
        "train_X = train_df.drop([\"TARGET\",\"SK_ID_CURR\"], axis=1)\n",
        "\n",
        "scaler = StandardScaler()  \n",
        "\n",
        "train_X_scale = scaler.fit(train_X).transform(train_X)\n",
        "\n",
        "xgr = XGBRegressor(n_estimators=15, learning_rate=1.0, objective='binary:logistic', \n",
        "                    booster='gbtree',n_jobs= -1, \n",
        "                    min_child_weight=30, subsample=0.5, \n",
        "                    colsample_bytree=0.9, reg_alpha=0.01, reg_lambda=0.05,\n",
        "                    random_state=101)\n",
        "\n",
        "xgr.fit(train_X, train_Y)\n",
        "\n",
        "plt.figure(figsize=(20,15))\n",
        "xgb.plot_importance(xgr, max_num_features=50, height=0.8, ax=plt.gca());"
      ],
      "execution_count": 43,
      "outputs": [
        {
          "output_type": "display_data",
          "data": {
            "image/png": "[encoded data removed]",
            "text/plain": [
              "<Figure size 1440x1080 with 1 Axes>"
            ]
          },
          "metadata": {
            "tags": [],
            "needs_background": "light"
          }
        }
      ]
    },
    {
      "cell_type": "markdown",
      "metadata": {
        "id": "MQHnLa_LIWGO"
      },
      "source": [
        "affichage des valeurs"
      ]
    },
    {
      "cell_type": "code",
      "metadata": {
        "colab": {
          "base_uri": "https://localhost:8080/",
          "height": 0
        },
        "id": "ETwW4OthIKz8",
        "outputId": "37c5d783-8e22-40e4-d7d0-b068b05ffc17"
      },
      "source": [
        "importances_df = \\\n",
        "pd.DataFrame({'feature':train_X.columns,\n",
        "              'importance':np.round(xgr.feature_importances_,3)})\n",
        "importances_df = importances_df.sort_values('importance', ascending=False)\n",
        "importances_df[:30]"
      ],
      "execution_count": 44,
      "outputs": [
        {
          "output_type": "execute_result",
          "data": {
            "text/html": [
              "<div>\n",
              "<style scoped>\n",
              "    .dataframe tbody tr th:only-of-type {\n",
              "        vertical-align: middle;\n",
              "    }\n",
              "\n",
              "    .dataframe tbody tr th {\n",
              "        vertical-align: top;\n",
              "    }\n",
              "\n",
              "    .dataframe thead th {\n",
              "        text-align: right;\n",
              "    }\n",
              "</style>\n",
              "<table border=\"1\" class=\"dataframe\">\n",
              "  <thead>\n",
              "    <tr style=\"text-align: right;\">\n",
              "      <th></th>\n",
              "      <th>feature</th>\n",
              "      <th>importance</th>\n",
              "    </tr>\n",
              "  </thead>\n",
              "  <tbody>\n",
              "    <tr>\n",
              "      <th>23</th>\n",
              "      <td>EXT_SOURCE_3</td>\n",
              "      <td>0.145</td>\n",
              "    </tr>\n",
              "    <tr>\n",
              "      <th>22</th>\n",
              "      <td>EXT_SOURCE_2</td>\n",
              "      <td>0.093</td>\n",
              "    </tr>\n",
              "    <tr>\n",
              "      <th>2</th>\n",
              "      <td>AMT_GOODS_PRICE</td>\n",
              "      <td>0.073</td>\n",
              "    </tr>\n",
              "    <tr>\n",
              "      <th>40</th>\n",
              "      <td>NAME_EDUCATION_TYPE</td>\n",
              "      <td>0.073</td>\n",
              "    </tr>\n",
              "    <tr>\n",
              "      <th>59</th>\n",
              "      <td>BUREAU_MEAN_AMT_CREDIT_SUM_LIMIT</td>\n",
              "      <td>0.070</td>\n",
              "    </tr>\n",
              "    <tr>\n",
              "      <th>0</th>\n",
              "      <td>AMT_ANNUITY</td>\n",
              "      <td>0.063</td>\n",
              "    </tr>\n",
              "    <tr>\n",
              "      <th>14</th>\n",
              "      <td>DAYS_EMPLOYED</td>\n",
              "      <td>0.054</td>\n",
              "    </tr>\n",
              "    <tr>\n",
              "      <th>13</th>\n",
              "      <td>DAYS_BIRTH</td>\n",
              "      <td>0.043</td>\n",
              "    </tr>\n",
              "    <tr>\n",
              "      <th>21</th>\n",
              "      <td>EXT_SOURCE_1</td>\n",
              "      <td>0.042</td>\n",
              "    </tr>\n",
              "    <tr>\n",
              "      <th>1</th>\n",
              "      <td>AMT_CREDIT</td>\n",
              "      <td>0.036</td>\n",
              "    </tr>\n",
              "    <tr>\n",
              "      <th>57</th>\n",
              "      <td>BUREAU_MEAN_AMT_CREDIT_SUM</td>\n",
              "      <td>0.030</td>\n",
              "    </tr>\n",
              "    <tr>\n",
              "      <th>58</th>\n",
              "      <td>BUREAU_MEAN_AMT_CREDIT_SUM_DEBT</td>\n",
              "      <td>0.025</td>\n",
              "    </tr>\n",
              "    <tr>\n",
              "      <th>12</th>\n",
              "      <td>CODE_GENDER</td>\n",
              "      <td>0.024</td>\n",
              "    </tr>\n",
              "    <tr>\n",
              "      <th>49</th>\n",
              "      <td>OWN_CAR_AGE</td>\n",
              "      <td>0.023</td>\n",
              "    </tr>\n",
              "    <tr>\n",
              "      <th>39</th>\n",
              "      <td>NAME_CONTRACT_TYPE</td>\n",
              "      <td>0.021</td>\n",
              "    </tr>\n",
              "    <tr>\n",
              "      <th>66</th>\n",
              "      <td>PREV_AMT_PAYMENT</td>\n",
              "      <td>0.021</td>\n",
              "    </tr>\n",
              "    <tr>\n",
              "      <th>28</th>\n",
              "      <td>FLAG_OWN_CAR</td>\n",
              "      <td>0.018</td>\n",
              "    </tr>\n",
              "    <tr>\n",
              "      <th>18</th>\n",
              "      <td>DEF_30_CNT_SOCIAL_CIRCLE</td>\n",
              "      <td>0.017</td>\n",
              "    </tr>\n",
              "    <tr>\n",
              "      <th>43</th>\n",
              "      <td>NAME_INCOME_TYPE</td>\n",
              "      <td>0.017</td>\n",
              "    </tr>\n",
              "    <tr>\n",
              "      <th>64</th>\n",
              "      <td>PREV_AMT_GOODS_PRICE</td>\n",
              "      <td>0.016</td>\n",
              "    </tr>\n",
              "    <tr>\n",
              "      <th>65</th>\n",
              "      <td>PREV_AMT_INSTALMENT</td>\n",
              "      <td>0.014</td>\n",
              "    </tr>\n",
              "    <tr>\n",
              "      <th>5</th>\n",
              "      <td>AMT_REQ_CREDIT_BUREAU_QRT</td>\n",
              "      <td>0.012</td>\n",
              "    </tr>\n",
              "    <tr>\n",
              "      <th>63</th>\n",
              "      <td>PREV_AMT_CREDIT</td>\n",
              "      <td>0.012</td>\n",
              "    </tr>\n",
              "    <tr>\n",
              "      <th>16</th>\n",
              "      <td>DAYS_LAST_PHONE_CHANGE</td>\n",
              "      <td>0.011</td>\n",
              "    </tr>\n",
              "    <tr>\n",
              "      <th>36</th>\n",
              "      <td>LIVINGAREA_AVG</td>\n",
              "      <td>0.009</td>\n",
              "    </tr>\n",
              "    <tr>\n",
              "      <th>15</th>\n",
              "      <td>DAYS_ID_PUBLISH</td>\n",
              "      <td>0.009</td>\n",
              "    </tr>\n",
              "    <tr>\n",
              "      <th>6</th>\n",
              "      <td>AMT_REQ_CREDIT_BUREAU_YEAR</td>\n",
              "      <td>0.008</td>\n",
              "    </tr>\n",
              "    <tr>\n",
              "      <th>11</th>\n",
              "      <td>CNT_FAM_MEMBERS</td>\n",
              "      <td>0.006</td>\n",
              "    </tr>\n",
              "    <tr>\n",
              "      <th>51</th>\n",
              "      <td>REGION_RATING_CLIENT</td>\n",
              "      <td>0.006</td>\n",
              "    </tr>\n",
              "    <tr>\n",
              "      <th>61</th>\n",
              "      <td>PREV_AMT_ANNUITY</td>\n",
              "      <td>0.006</td>\n",
              "    </tr>\n",
              "  </tbody>\n",
              "</table>\n",
              "</div>"
            ],
            "text/plain": [
              "                             feature  importance\n",
              "23                      EXT_SOURCE_3       0.145\n",
              "22                      EXT_SOURCE_2       0.093\n",
              "2                    AMT_GOODS_PRICE       0.073\n",
              "40               NAME_EDUCATION_TYPE       0.073\n",
              "59  BUREAU_MEAN_AMT_CREDIT_SUM_LIMIT       0.070\n",
              "0                        AMT_ANNUITY       0.063\n",
              "14                     DAYS_EMPLOYED       0.054\n",
              "13                        DAYS_BIRTH       0.043\n",
              "21                      EXT_SOURCE_1       0.042\n",
              "1                         AMT_CREDIT       0.036\n",
              "57        BUREAU_MEAN_AMT_CREDIT_SUM       0.030\n",
              "58   BUREAU_MEAN_AMT_CREDIT_SUM_DEBT       0.025\n",
              "12                       CODE_GENDER       0.024\n",
              "49                       OWN_CAR_AGE       0.023\n",
              "39                NAME_CONTRACT_TYPE       0.021\n",
              "66                  PREV_AMT_PAYMENT       0.021\n",
              "28                      FLAG_OWN_CAR       0.018\n",
              "18          DEF_30_CNT_SOCIAL_CIRCLE       0.017\n",
              "43                  NAME_INCOME_TYPE       0.017\n",
              "64              PREV_AMT_GOODS_PRICE       0.016\n",
              "65               PREV_AMT_INSTALMENT       0.014\n",
              "5          AMT_REQ_CREDIT_BUREAU_QRT       0.012\n",
              "63                   PREV_AMT_CREDIT       0.012\n",
              "16            DAYS_LAST_PHONE_CHANGE       0.011\n",
              "36                    LIVINGAREA_AVG       0.009\n",
              "15                   DAYS_ID_PUBLISH       0.009\n",
              "6         AMT_REQ_CREDIT_BUREAU_YEAR       0.008\n",
              "11                   CNT_FAM_MEMBERS       0.006\n",
              "51              REGION_RATING_CLIENT       0.006\n",
              "61                  PREV_AMT_ANNUITY       0.006"
            ]
          },
          "metadata": {
            "tags": []
          },
          "execution_count": 44
        }
      ]
    },
    {
      "cell_type": "markdown",
      "metadata": {
        "id": "7wTlrywxIvsx"
      },
      "source": [
        "conservation seulement des colonnes dont l'importance est supérieure à 0.019"
      ]
    },
    {
      "cell_type": "code",
      "metadata": {
        "colab": {
          "base_uri": "https://localhost:8080/"
        },
        "id": "pk3mIfvrIl9X",
        "outputId": "ce1a0d58-9810-43b2-b368-5a4d98088db8"
      },
      "source": [
        "feat_df = pd.DataFrame(importances_df[importances_df['importance']>=0.019])\n",
        "feat_col = list(feat_df['feature'])\n",
        "print (\"Nombre de features sélectionnés :  \", len(feat_col))\n",
        "\n",
        "del train_X, train_Y, importances_df, train_X_scale\n",
        "gc.collect()"
      ],
      "execution_count": 45,
      "outputs": [
        {
          "output_type": "stream",
          "text": [
            "Nombre de features sélectionnés :   16\n"
          ],
          "name": "stdout"
        },
        {
          "output_type": "execute_result",
          "data": {
            "text/plain": [
              "7585"
            ]
          },
          "metadata": {
            "tags": []
          },
          "execution_count": 45
        }
      ]
    },
    {
      "cell_type": "markdown",
      "metadata": {
        "id": "p6l3-8cGZgK9"
      },
      "source": [
        "# V - XGBClassifier"
      ]
    },
    {
      "cell_type": "markdown",
      "metadata": {
        "id": "eagLa1by_MXp"
      },
      "source": [
        "## a) scoring = roc_auc"
      ]
    },
    {
      "cell_type": "code",
      "metadata": {
        "id": "NdGOmS8LJaJf"
      },
      "source": [
        "X = train_df[feat_col].copy()\n",
        "y = train_df.TARGET.copy()"
      ],
      "execution_count": 46,
      "outputs": []
    },
    {
      "cell_type": "markdown",
      "metadata": {
        "id": "iYMLM0NpovQO"
      },
      "source": [
        "### i) weighted (échantillon réduit)"
      ]
    },
    {
      "cell_type": "markdown",
      "metadata": {
        "id": "abFW7fCZy_KK"
      },
      "source": [
        "création d'un sous-échantillon pour raison de temps de calcul"
      ]
    },
    {
      "cell_type": "code",
      "metadata": {
        "id": "c3v0q5Hsy_K7"
      },
      "source": [
        "X_short, X_test, y_short, y_test = train_test_split(\n",
        "    X, y, test_size=0.8, random_state=36)"
      ],
      "execution_count": 66,
      "outputs": []
    },
    {
      "cell_type": "code",
      "metadata": {
        "colab": {
          "base_uri": "https://localhost:8080/"
        },
        "id": "S3YLDchry_K8",
        "outputId": "52d649cb-417e-4c90-9f43-9bde4e9d53f1"
      },
      "source": [
        "percent_0_all = 100 * y_short[y_short==0].size / y_short.size\n",
        "print(\"Il y a {:.3f}% de 0 dans l'ensemble de y_short\".format(percent_0_all))\n",
        "\n",
        "percent_0_all = 100 * y[y==0].size / y.size\n",
        "print(\"Il y a {:.3f}% de 0 dans l'ensemble de y\".format(percent_0_all))"
      ],
      "execution_count": 67,
      "outputs": [
        {
          "output_type": "stream",
          "text": [
            "Il y a 91.299% de 0 dans l'ensemble de y_short\n",
            "Il y a 91.388% de 0 dans l'ensemble de y\n"
          ],
          "name": "stdout"
        }
      ]
    },
    {
      "cell_type": "markdown",
      "metadata": {
        "id": "LxcVts7OzR7h"
      },
      "source": [
        "calcul du paramètre scale_pos_weight"
      ]
    },
    {
      "cell_type": "code",
      "metadata": {
        "id": "ppC0JgsltCXQ"
      },
      "source": [
        "ratio_0_1 = y_short[y_short==0].size / y_short[y_short==1].size"
      ],
      "execution_count": 69,
      "outputs": []
    },
    {
      "cell_type": "markdown",
      "metadata": {
        "id": "Yc9DVd9rzeg8"
      },
      "source": [
        "exploration de n_estimators et max_depth "
      ]
    },
    {
      "cell_type": "code",
      "metadata": {
        "id": "4NpEDPuqzehu"
      },
      "source": [
        "params = {'n_estimators' : [32,64,128,256],\n",
        "          'max_depth' : [7,15,30],\n",
        "          'scale_pos_weight' : [ratio_0_1],\n",
        "          'use_label_encoder' : [False],\n",
        "          'random_state' : [41]}\n",
        "\n",
        "results = classify_with_gridsearchcv(X_short, y_short, clf=XGBClassifier(), \n",
        "                                     params_grid=params, scoring=roc_auc_score, \n",
        "                                     predictions='proba', rand=36)"
      ],
      "execution_count": 70,
      "outputs": []
    },
    {
      "cell_type": "code",
      "metadata": {
        "colab": {
          "base_uri": "https://localhost:8080/"
        },
        "id": "vYg_mu1xzehu",
        "outputId": "547d7851-e80a-4f86-a261-8574f879e717"
      },
      "source": [
        "best_params = results['best_params']\n",
        "print(\"'best_params vaut : {}\\n\".format(best_params))\n",
        "\n",
        "score = results['score']\n",
        "print(\"Le score sur les données de test pour 'best_params' est {}\".\n",
        "      format(score))"
      ],
      "execution_count": 71,
      "outputs": [
        {
          "output_type": "stream",
          "text": [
            "'best_params vaut : {'max_depth': 30, 'n_estimators': 128, 'random_state': 41, 'scale_pos_weight': 10.493033226152198, 'use_label_encoder': False, 'cv_value': None}\n",
            "\n",
            "Le score sur les données de test pour 'best_params' est 0.845515589622166\n"
          ],
          "name": "stdout"
        }
      ]
    },
    {
      "cell_type": "markdown",
      "metadata": {
        "id": "7Psh7Gg3IHb_"
      },
      "source": [
        "tracé de score = f(n_estimators) (max_depth=30)"
      ]
    },
    {
      "cell_type": "code",
      "metadata": {
        "id": "rzfFo5CHJkgU"
      },
      "source": [
        "results_plot = results.copy()\n",
        "results_plot['all_results'] = \\\n",
        "[elt for elt in results['all_results'] if elt[0]['max_depth']==30]"
      ],
      "execution_count": 82,
      "outputs": []
    },
    {
      "cell_type": "code",
      "metadata": {
        "colab": {
          "base_uri": "https://localhost:8080/",
          "height": 574
        },
        "id": "Qh5cBLM8Ibh-",
        "outputId": "9afb42b3-5d0a-4f93-df15-27f328af25f8"
      },
      "source": [
        "plot_parameter_exploration_reg(results_learner={1:results_plot}, \n",
        "                               paramaters=params['n_estimators'], \n",
        "                               name_param='n_estimators',\n",
        "                               legendleft=['test (CV)','train (CV)'],\n",
        "                               labelleft='score', labelright='ratio (train/test)',\n",
        "                               logleft=True, logright=True)"
      ],
      "execution_count": 86,
      "outputs": [
        {
          "output_type": "execute_result",
          "data": {
            "text/plain": [
              "(<Figure size 1296x576 with 2 Axes>,\n",
              " array([<matplotlib.axes._subplots.AxesSubplot object at 0x7f7c63fbea90>,\n",
              "        <matplotlib.axes._subplots.AxesSubplot object at 0x7f7c63d97c90>],\n",
              "       dtype=object))"
            ]
          },
          "metadata": {
            "tags": []
          },
          "execution_count": 86
        },
        {
          "output_type": "display_data",
          "data": {
            "image/png": "[encoded data removed]",
            "text/plain": [
              "<Figure size 1296x576 with 2 Axes>"
            ]
          },
          "metadata": {
            "tags": []
          }
        }
      ]
    },
    {
      "cell_type": "markdown",
      "metadata": {
        "id": "2yl70bmcLWAT"
      },
      "source": [
        "tracé de score = f(max_depth) (n_estimators=128)"
      ]
    },
    {
      "cell_type": "code",
      "metadata": {
        "id": "ypSyqs3sLWAU"
      },
      "source": [
        "results_plot = results.copy()\n",
        "results_plot['all_results'] = \\\n",
        "[elt for elt in results['all_results'] if elt[0]['n_estimators']==128]"
      ],
      "execution_count": 87,
      "outputs": []
    },
    {
      "cell_type": "code",
      "metadata": {
        "colab": {
          "base_uri": "https://localhost:8080/",
          "height": 574
        },
        "id": "WPsf_toQLWAV",
        "outputId": "66426ea1-9794-4942-be6b-a1f5731169f1"
      },
      "source": [
        "plot_parameter_exploration_reg(results_learner={1:results_plot}, \n",
        "                               paramaters=params['max_depth'], \n",
        "                               name_param='max_depth',\n",
        "                               legendleft=['test (CV)','train (CV)'],\n",
        "                               labelleft='score', labelright='ratio (train/test)',\n",
        "                               logleft=True, logright=True)"
      ],
      "execution_count": 88,
      "outputs": [
        {
          "output_type": "execute_result",
          "data": {
            "text/plain": [
              "(<Figure size 1296x576 with 2 Axes>,\n",
              " array([<matplotlib.axes._subplots.AxesSubplot object at 0x7f7c63cf14d0>,\n",
              "        <matplotlib.axes._subplots.AxesSubplot object at 0x7f7c63bca650>],\n",
              "       dtype=object))"
            ]
          },
          "metadata": {
            "tags": []
          },
          "execution_count": 88
        },
        {
          "output_type": "display_data",
          "data": {
            "image/png": "[encoded data removed]",
            "text/plain": [
              "<Figure size 1296x576 with 2 Axes>"
            ]
          },
          "metadata": {
            "tags": []
          }
        }
      ]
    },
    {
      "cell_type": "markdown",
      "metadata": {
        "id": "ixf1lU4rNdN7"
      },
      "source": [
        "### ii) undersampling"
      ]
    },
    {
      "cell_type": "markdown",
      "metadata": {
        "id": "UO1MjgkX1s4p"
      },
      "source": [
        "séparation train-test"
      ]
    },
    {
      "cell_type": "code",
      "metadata": {
        "id": "to0eUBvE1s4w"
      },
      "source": [
        "X_train, X_test, y_train, y_test = train_test_split(\n",
        "    X, y, test_size=0.3, random_state=36)"
      ],
      "execution_count": 47,
      "outputs": []
    },
    {
      "cell_type": "markdown",
      "metadata": {
        "id": "7tE2llkhMNYy"
      },
      "source": [
        "application de l'undersampling aux données"
      ]
    },
    {
      "cell_type": "code",
      "metadata": {
        "id": "yq58K1bYLS9X"
      },
      "source": [
        "undersample = RandomUnderSampler(sampling_strategy='majority')\n",
        "\n",
        "X_under, y_under = undersample.fit_resample(X_train, y_train)"
      ],
      "execution_count": 48,
      "outputs": []
    },
    {
      "cell_type": "code",
      "metadata": {
        "colab": {
          "base_uri": "https://localhost:8080/"
        },
        "id": "kr_Cv-A6Lcqq",
        "outputId": "c496a7c2-6f6a-4727-d31c-d8fdb780791f"
      },
      "source": [
        "percent_0_all = 100 * y_under[y_under==0].size / y_under.size\n",
        "print(\"Il y a {:.3f}% de 0 dans l'ensemble de y_under\".format(percent_0_all))"
      ],
      "execution_count": 49,
      "outputs": [
        {
          "output_type": "stream",
          "text": [
            "Il y a 50.000% de 0 dans l'ensemble de y_under\n"
          ],
          "name": "stdout"
        }
      ]
    },
    {
      "cell_type": "markdown",
      "metadata": {
        "id": "Qqac8pIhMYoF"
      },
      "source": [
        "exploration de n_estimators et max_depth "
      ]
    },
    {
      "cell_type": "code",
      "metadata": {
        "id": "hFcmA-deMYoF"
      },
      "source": [
        "params = {'n_estimators' : [32,64,128,256],\n",
        "          'max_depth' : [7,15,30],\n",
        "          'use_label_encoder' : [False],\n",
        "          'random_state' : [41]}\n",
        "\n",
        "results = classify_with_gridsearchcv(X_under, y_under, clf=XGBClassifier(), \n",
        "                                     params_grid=params, scoring=roc_auc_score, \n",
        "                                     predictions='proba', rand=36)"
      ],
      "execution_count": 50,
      "outputs": []
    },
    {
      "cell_type": "code",
      "metadata": {
        "colab": {
          "base_uri": "https://localhost:8080/"
        },
        "id": "erZO9pKLMYoG",
        "outputId": "73e082ad-9870-40a2-c919-4dcfac9f5b37"
      },
      "source": [
        "best_params = results['best_params']\n",
        "print(\"'best_params vaut : {}\\n\".format(best_params))\n",
        "\n",
        "score = results['score']\n",
        "print(\"Le score sur les données de test pour 'best_params' est {}\".\n",
        "      format(score))"
      ],
      "execution_count": 51,
      "outputs": [
        {
          "output_type": "stream",
          "text": [
            "'best_params vaut : {'max_depth': 30, 'n_estimators': 256, 'random_state': 41, 'use_label_encoder': False, 'cv_value': None}\n",
            "\n",
            "Le score sur les données de test pour 'best_params' est 0.9018865825679918\n"
          ],
          "name": "stdout"
        }
      ]
    },
    {
      "cell_type": "markdown",
      "metadata": {
        "id": "4TMC7qAJXcTU"
      },
      "source": [
        "tracé de score = f(n_estimators) (max_depth=30)"
      ]
    },
    {
      "cell_type": "code",
      "metadata": {
        "id": "wN5ynFIpXcTm"
      },
      "source": [
        "results_plot = results.copy()\n",
        "results_plot['all_results'] = \\\n",
        "[elt for elt in results['all_results'] if elt[0]['max_depth']==30]"
      ],
      "execution_count": 52,
      "outputs": []
    },
    {
      "cell_type": "code",
      "metadata": {
        "colab": {
          "base_uri": "https://localhost:8080/",
          "height": 574
        },
        "id": "0FdeT0ejXcTn",
        "outputId": "b088abc8-ae8c-4a9a-da7e-01b80b93ee8d"
      },
      "source": [
        "plot_parameter_exploration_reg(results_learner={1:results_plot}, \n",
        "                               paramaters=params['n_estimators'], \n",
        "                               name_param='n_estimators',\n",
        "                               legendleft=['test (CV)','train (CV)'],\n",
        "                               labelleft='score', labelright='ratio (train/test)',\n",
        "                               logleft=True, logright=True)"
      ],
      "execution_count": 53,
      "outputs": [
        {
          "output_type": "execute_result",
          "data": {
            "text/plain": [
              "(<Figure size 1296x576 with 2 Axes>,\n",
              " array([<matplotlib.axes._subplots.AxesSubplot object at 0x7fbfa2df0610>,\n",
              "        <matplotlib.axes._subplots.AxesSubplot object at 0x7fbfa4961c90>],\n",
              "       dtype=object))"
            ]
          },
          "metadata": {
            "tags": []
          },
          "execution_count": 53
        },
        {
          "output_type": "display_data",
          "data": {
            "image/png": "[encoded data removed]",
            "text/plain": [
              "<Figure size 1296x576 with 2 Axes>"
            ]
          },
          "metadata": {
            "tags": []
          }
        }
      ]
    },
    {
      "cell_type": "markdown",
      "metadata": {
        "id": "GKj_UiZ5Xq9Y"
      },
      "source": [
        "tracé de score = f(max_depth) (n_estimators=256)"
      ]
    },
    {
      "cell_type": "code",
      "metadata": {
        "id": "MNPi3hWlXq9a"
      },
      "source": [
        "results_plot = results.copy()\n",
        "results_plot['all_results'] = \\\n",
        "[elt for elt in results['all_results'] if elt[0]['n_estimators']==256]"
      ],
      "execution_count": 54,
      "outputs": []
    },
    {
      "cell_type": "code",
      "metadata": {
        "colab": {
          "base_uri": "https://localhost:8080/",
          "height": 574
        },
        "id": "t7ClC8Z6Xq9b",
        "outputId": "b2b9cf82-7856-48a3-ce37-0a15016f29a6"
      },
      "source": [
        "plot_parameter_exploration_reg(results_learner={1:results_plot}, \n",
        "                               paramaters=params['max_depth'], \n",
        "                               name_param='max_depth',\n",
        "                               legendleft=['test (CV)','train (CV)'],\n",
        "                               labelleft='score', labelright='ratio (train/test)',\n",
        "                               logleft=True, logright=True)"
      ],
      "execution_count": 55,
      "outputs": [
        {
          "output_type": "execute_result",
          "data": {
            "text/plain": [
              "(<Figure size 1296x576 with 2 Axes>,\n",
              " array([<matplotlib.axes._subplots.AxesSubplot object at 0x7fbfa29690d0>,\n",
              "        <matplotlib.axes._subplots.AxesSubplot object at 0x7fbfa236d890>],\n",
              "       dtype=object))"
            ]
          },
          "metadata": {
            "tags": []
          },
          "execution_count": 55
        },
        {
          "output_type": "display_data",
          "data": {
            "image/png": "[encoded data removed]",
            "text/plain": [
              "<Figure size 1296x576 with 2 Axes>"
            ]
          },
          "metadata": {
            "tags": []
          }
        }
      ]
    },
    {
      "cell_type": "markdown",
      "metadata": {
        "id": "CUDoDDtB8QKm"
      },
      "source": [
        "matrice de confusion"
      ]
    },
    {
      "cell_type": "code",
      "metadata": {
        "colab": {
          "base_uri": "https://localhost:8080/",
          "height": 484
        },
        "id": "0AGNnTR6CijQ",
        "outputId": "f79faf00-7912-49a1-f9fe-6d2e69263c1d"
      },
      "source": [
        "scorer = make_scorer(roc_auc_score, needs_threshold=True)\n",
        "\n",
        "clf = XGBClassifier()\n",
        "params_grid = {'n_estimators' : [256],\n",
        "               'max_depth' : [30],\n",
        "               'use_label_encoder' : [False],\n",
        "               'random_state' : [41]}\n",
        "\n",
        "grid = GridSearchCV(clf, params_grid, scoring=scorer, \n",
        "                    return_train_score=True)\n",
        "\n",
        "grid.fit(X_under, y_under)\n",
        "\n",
        "X_test = np.array(X_test)\n",
        "\n",
        "y_pred = grid.predict(X_test)\n",
        "\n",
        "labels = np.array([0,1])\n",
        "\n",
        "fig = ConfusionMatrixDisplay(confusion_matrix(y_test,y_pred,normalize='all'),\n",
        "                             labels)\n",
        "figdim, ax = plt.subplots(figsize=(8,8))\n",
        "fig.plot(ax=ax)"
      ],
      "execution_count": 57,
      "outputs": [
        {
          "output_type": "execute_result",
          "data": {
            "text/plain": [
              "<sklearn.metrics._plot.confusion_matrix.ConfusionMatrixDisplay at 0x7fbfa48e6910>"
            ]
          },
          "metadata": {
            "tags": []
          },
          "execution_count": 57
        },
        {
          "output_type": "display_data",
          "data": {
            "image/png": "[encoded data removed]",
            "text/plain": [
              "<Figure size 576x576 with 2 Axes>"
            ]
          },
          "metadata": {
            "tags": [],
            "needs_background": "light"
          }
        }
      ]
    },
    {
      "cell_type": "code",
      "metadata": {
        "colab": {
          "base_uri": "https://localhost:8080/",
          "height": 484
        },
        "id": "hS4hk5YlCijX",
        "outputId": "9f07cfef-7e68-4b54-8115-696130db0b2a"
      },
      "source": [
        "# matrice de confusion avec sample_weight\n",
        "labels = np.array([0,1])\n",
        "\n",
        "weight_0 = (y_test==1).sum() / y_test.size\n",
        "weight_1 = (y_test==0).sum() / y_test.size\n",
        "weights = np.where(y_test==0, weight_0,weight_1)\n",
        "\n",
        "fig = ConfusionMatrixDisplay(confusion_matrix(y_test,y_pred,normalize='all',\n",
        "                                              sample_weight=weights),labels)\n",
        "figdim, ax = plt.subplots(figsize=(8,8))\n",
        "fig.plot(ax=ax)"
      ],
      "execution_count": 58,
      "outputs": [
        {
          "output_type": "execute_result",
          "data": {
            "text/plain": [
              "<sklearn.metrics._plot.confusion_matrix.ConfusionMatrixDisplay at 0x7fbfa499b9d0>"
            ]
          },
          "metadata": {
            "tags": []
          },
          "execution_count": 58
        },
        {
          "output_type": "display_data",
          "data": {
            "image/png": "[encoded data removed]",
            "text/plain": [
              "<Figure size 576x576 with 2 Axes>"
            ]
          },
          "metadata": {
            "tags": [],
            "needs_background": "light"
          }
        }
      ]
    },
    {
      "cell_type": "markdown",
      "metadata": {
        "id": "hLiBpK7BN-TT"
      },
      "source": [
        "### iii) oversampling (échantillon réduit)"
      ]
    },
    {
      "cell_type": "markdown",
      "metadata": {
        "id": "iQlXcvCa6WVd"
      },
      "source": [
        "séparation train-test"
      ]
    },
    {
      "cell_type": "code",
      "metadata": {
        "id": "l6SqraYi6bXF"
      },
      "source": [
        "X_train, X_test, y_train, y_test = train_test_split(\n",
        "    X, y, test_size=0.3, random_state=36)"
      ],
      "execution_count": 47,
      "outputs": []
    },
    {
      "cell_type": "markdown",
      "metadata": {
        "id": "MFm5jNjLpFlz"
      },
      "source": [
        "application de l'oversampling aux données puis créaton d'un sous-échantillon pour raison de temps de calcul"
      ]
    },
    {
      "cell_type": "code",
      "metadata": {
        "id": "xEEW8-W3_Pce"
      },
      "source": [
        "oversample = RandomOverSampler(sampling_strategy='minority')\n",
        "\n",
        "X_over, y_over = oversample.fit_resample(X_train, y_train)"
      ],
      "execution_count": 48,
      "outputs": []
    },
    {
      "cell_type": "code",
      "metadata": {
        "id": "hmvXu2gg2KCB"
      },
      "source": [
        "X_over_short, X_over_test, y_over_short, y_over_test = train_test_split(\n",
        "    X_over, y_over, test_size=0.8, random_state=36)"
      ],
      "execution_count": 49,
      "outputs": []
    },
    {
      "cell_type": "code",
      "metadata": {
        "colab": {
          "base_uri": "https://localhost:8080/"
        },
        "id": "egqoCW2I_Pcg",
        "outputId": "2606d638-8fed-4241-d08b-f7c31cc8c86f"
      },
      "source": [
        "percent_0_all = 100 * y_over_short[y_over_short==0].size / y_over_short.size\n",
        "print(\"Il y a {:.3f}% de 0 dans l'ensemble de y_over_short\".format(percent_0_all))\n",
        "\n",
        "percent_0_all = 100 * y_over[y_over==0].size / y_over.size\n",
        "print(\"Il y a {:.3f}% de 0 dans l'ensemble de y_over\".format(percent_0_all))"
      ],
      "execution_count": 124,
      "outputs": [
        {
          "output_type": "stream",
          "text": [
            "Il y a 49.892% de 0 dans l'ensemble de y_over_short\n",
            "Il y a 50.000% de 0 dans l'ensemble de y_over\n"
          ],
          "name": "stdout"
        }
      ]
    },
    {
      "cell_type": "markdown",
      "metadata": {
        "id": "44RC6iO0pj6d"
      },
      "source": [
        "exploration de n_estimators et max_depth"
      ]
    },
    {
      "cell_type": "code",
      "metadata": {
        "id": "DUjgMWeVqDDY"
      },
      "source": [
        "params = {'n_estimators' : [32,64,128,256],\n",
        "          'max_depth' : [7,15,30],\n",
        "          'use_label_encoder' : [False],\n",
        "          'random_state' : [41]}\n",
        "\n",
        "results = classify_with_gridsearchcv(X_over_short, y_over_short, clf=XGBClassifier(), \n",
        "                                     params_grid=params, scoring=roc_auc_score, \n",
        "                                     predictions='proba', rand=36)"
      ],
      "execution_count": 125,
      "outputs": []
    },
    {
      "cell_type": "code",
      "metadata": {
        "colab": {
          "base_uri": "https://localhost:8080/"
        },
        "id": "a6YVjm6OqOYL",
        "outputId": "19fd3032-2f5e-4d68-f6e2-f50cafea9a15"
      },
      "source": [
        "best_params = results['best_params']\n",
        "print(\"'best_params vaut : {}\\n\".format(best_params))\n",
        "\n",
        "score = results['score']\n",
        "print(\"Le score sur les données de test pour 'best_params' est {}\".\n",
        "      format(score))"
      ],
      "execution_count": 126,
      "outputs": [
        {
          "output_type": "stream",
          "text": [
            "'best_params vaut : {'max_depth': 30, 'n_estimators': 256, 'random_state': 41, 'use_label_encoder': False, 'cv_value': None}\n",
            "\n",
            "Le score sur les données de test pour 'best_params' est 0.9812068076757099\n"
          ],
          "name": "stdout"
        }
      ]
    },
    {
      "cell_type": "markdown",
      "metadata": {
        "id": "aegDMAiBLluH"
      },
      "source": [
        "tracé de score = f(n_estimators) (max_depth=30)"
      ]
    },
    {
      "cell_type": "code",
      "metadata": {
        "id": "KrLyLDuqLlvB"
      },
      "source": [
        "results_plot = results.copy()\n",
        "results_plot['all_results'] = \\\n",
        "[elt for elt in results['all_results'] if elt[0]['max_depth']==30]"
      ],
      "execution_count": 127,
      "outputs": []
    },
    {
      "cell_type": "code",
      "metadata": {
        "colab": {
          "base_uri": "https://localhost:8080/",
          "height": 574
        },
        "id": "my2BjgzDLlvD",
        "outputId": "c4e3964c-10cf-4d5b-cdc8-2ea2f3c02097"
      },
      "source": [
        "plot_parameter_exploration_reg(results_learner={1:results_plot}, \n",
        "                               paramaters=params['n_estimators'], \n",
        "                               name_param='n_estimators',\n",
        "                               legendleft=['test (CV)','train (CV)'],\n",
        "                               labelleft='score', labelright='ratio (train/test)',\n",
        "                               logleft=True, logright=True)"
      ],
      "execution_count": 128,
      "outputs": [
        {
          "output_type": "execute_result",
          "data": {
            "text/plain": [
              "(<Figure size 1296x576 with 2 Axes>,\n",
              " array([<matplotlib.axes._subplots.AxesSubplot object at 0x7f7c6359d850>,\n",
              "        <matplotlib.axes._subplots.AxesSubplot object at 0x7f7c63646750>],\n",
              "       dtype=object))"
            ]
          },
          "metadata": {
            "tags": []
          },
          "execution_count": 128
        },
        {
          "output_type": "display_data",
          "data": {
            "image/png": "[encoded data removed]",
            "text/plain": [
              "<Figure size 1296x576 with 2 Axes>"
            ]
          },
          "metadata": {
            "tags": []
          }
        }
      ]
    },
    {
      "cell_type": "markdown",
      "metadata": {
        "id": "AGpPPWYvLlvF"
      },
      "source": [
        "tracé de score = f(max_depth) (n_estimators=256)"
      ]
    },
    {
      "cell_type": "code",
      "metadata": {
        "id": "Kdc9qMgfLlvG"
      },
      "source": [
        "results_plot = results.copy()\n",
        "results_plot['all_results'] = \\\n",
        "[elt for elt in results['all_results'] if elt[0]['n_estimators']==256]"
      ],
      "execution_count": 129,
      "outputs": []
    },
    {
      "cell_type": "code",
      "metadata": {
        "colab": {
          "base_uri": "https://localhost:8080/",
          "height": 574
        },
        "id": "uOTyYg1VLlvG",
        "outputId": "fa0346c6-b571-4da5-8ce2-0eaebf650418"
      },
      "source": [
        "plot_parameter_exploration_reg(results_learner={1:results_plot}, \n",
        "                               paramaters=params['max_depth'], \n",
        "                               name_param='max_depth',\n",
        "                               legendleft=['test (CV)','train (CV)'],\n",
        "                               labelleft='score', labelright='ratio (train/test)',\n",
        "                               logleft=True, logright=True)"
      ],
      "execution_count": 130,
      "outputs": [
        {
          "output_type": "execute_result",
          "data": {
            "text/plain": [
              "(<Figure size 1296x576 with 2 Axes>,\n",
              " array([<matplotlib.axes._subplots.AxesSubplot object at 0x7f7c633d40d0>,\n",
              "        <matplotlib.axes._subplots.AxesSubplot object at 0x7f7c63398610>],\n",
              "       dtype=object))"
            ]
          },
          "metadata": {
            "tags": []
          },
          "execution_count": 130
        },
        {
          "output_type": "display_data",
          "data": {
            "image/png": "[encoded data removed]",
            "text/plain": [
              "<Figure size 1296x576 with 2 Axes>"
            ]
          },
          "metadata": {
            "tags": []
          }
        }
      ]
    },
    {
      "cell_type": "markdown",
      "metadata": {
        "id": "HD5iNrfoLzZq"
      },
      "source": [
        "matrice de confusion (échantillon réduit)"
      ]
    },
    {
      "cell_type": "code",
      "metadata": {
        "colab": {
          "base_uri": "https://localhost:8080/",
          "height": 484
        },
        "id": "7VgICu8xckV6",
        "outputId": "fe88cba5-d066-45af-c870-050c86ffd92e"
      },
      "source": [
        "scorer = make_scorer(roc_auc_score, needs_threshold=True)\n",
        "\n",
        "clf = XGBClassifier()\n",
        "params_grid = {'n_estimators' : [256],\n",
        "               'max_depth' : [30],\n",
        "               'use_label_encoder' : [False],\n",
        "               'random_state' : [41]}\n",
        "\n",
        "grid = GridSearchCV(clf, params_grid, scoring=scorer, \n",
        "                    return_train_score=True)\n",
        "\n",
        "grid.fit(X_over_short, y_over_short)\n",
        "\n",
        "X_test = np.array(X_test)\n",
        "\n",
        "y_pred = grid.predict(X_test)\n",
        "\n",
        "labels = np.array([0,1])\n",
        "\n",
        "fig = ConfusionMatrixDisplay(confusion_matrix(y_test,y_pred,normalize='all'),\n",
        "                             labels)\n",
        "figdim, ax = plt.subplots(figsize=(8,8))\n",
        "fig.plot(ax=ax)"
      ],
      "execution_count": 56,
      "outputs": [
        {
          "output_type": "execute_result",
          "data": {
            "text/plain": [
              "<sklearn.metrics._plot.confusion_matrix.ConfusionMatrixDisplay at 0x7f32e3afa190>"
            ]
          },
          "metadata": {
            "tags": []
          },
          "execution_count": 56
        },
        {
          "output_type": "display_data",
          "data": {
            "image/png": "[encoded data removed]",
            "text/plain": [
              "<Figure size 576x576 with 2 Axes>"
            ]
          },
          "metadata": {
            "tags": [],
            "needs_background": "light"
          }
        }
      ]
    },
    {
      "cell_type": "code",
      "metadata": {
        "colab": {
          "base_uri": "https://localhost:8080/",
          "height": 484
        },
        "id": "QQLcJnGackMg",
        "outputId": "2c63a155-4adc-4439-dbfc-808f5c7cffe3"
      },
      "source": [
        "# matrice de confusion avec sample_weight\n",
        "labels = np.array([0,1])\n",
        "\n",
        "weight_0 = (y_test==1).sum() / y_test.size\n",
        "weight_1 = (y_test==0).sum() / y_test.size\n",
        "weights = np.where(y_test==0, weight_0,weight_1)\n",
        "\n",
        "fig = ConfusionMatrixDisplay(confusion_matrix(y_test,y_pred,normalize='all',\n",
        "                                              sample_weight=weights),labels)\n",
        "figdim, ax = plt.subplots(figsize=(8,8))\n",
        "fig.plot(ax=ax)"
      ],
      "execution_count": 57,
      "outputs": [
        {
          "output_type": "execute_result",
          "data": {
            "text/plain": [
              "<sklearn.metrics._plot.confusion_matrix.ConfusionMatrixDisplay at 0x7f32e1773c10>"
            ]
          },
          "metadata": {
            "tags": []
          },
          "execution_count": 57
        },
        {
          "output_type": "display_data",
          "data": {
            "image/png": "[encoded data removed]",
            "text/plain": [
              "<Figure size 576x576 with 2 Axes>"
            ]
          },
          "metadata": {
            "tags": [],
            "needs_background": "light"
          }
        }
      ]
    },
    {
      "cell_type": "markdown",
      "metadata": {
        "id": "RFQUPd9KARN0"
      },
      "source": [
        "## b) f1-score"
      ]
    },
    {
      "cell_type": "code",
      "metadata": {
        "id": "RpQy6M_IARN1"
      },
      "source": [
        "X = train_df[feat_col].copy()\n",
        "y = train_df.TARGET.copy()"
      ],
      "execution_count": null,
      "outputs": []
    },
    {
      "cell_type": "markdown",
      "metadata": {
        "id": "Ww4Csro4iXAx"
      },
      "source": [
        "## c) scoring personnalisé (1)"
      ]
    },
    {
      "cell_type": "code",
      "metadata": {
        "id": "bnq1D_K7Am3g"
      },
      "source": [
        "X = train_df[feat_col].copy()\n",
        "y = train_df.TARGET.copy()"
      ],
      "execution_count": null,
      "outputs": []
    },
    {
      "cell_type": "markdown",
      "metadata": {
        "id": "pOVJ2uvNiXAx"
      },
      "source": [
        "### i) définition de la fonction qui va calculer le score"
      ]
    },
    {
      "cell_type": "markdown",
      "metadata": {
        "id": "PL1BIR29iXAx"
      },
      "source": [
        "- true positive : prêt remboursé => 1\n",
        "- true negative : pas de prêt et n'aurait pas pu être remboursé => 1\n",
        "- false positive : prêt non remboursé => -1\n",
        "- false negative : pas de prêt alors qu'il aurait été remboursé => -1"
      ]
    },
    {
      "cell_type": "code",
      "metadata": {
        "id": "GzGtBJNziXAy"
      },
      "source": [
        "def my_score(y_true, y_pred):\n",
        "\n",
        "    coeff_TP = 1\n",
        "    coeff_TN = 1\n",
        "    coeff_FP = -1\n",
        "    coeff_FN = -1\n",
        "\n",
        "    # vrai positifs : prédits 0 et vraiment 0 (prêt / peut rembourser)\n",
        "    condition1 = (y_true==y_pred)\n",
        "    condition2 = (y_true==0)\n",
        "    y = np.where(condition1 * condition2)\n",
        "    n_true_positive = np.size(y)\n",
        "\n",
        "    # vrai négatifs : prédits 1 et vraiment 1 (non prêt / peut pas rembourser)\n",
        "    condition2 =  (y_true==1)\n",
        "    y = np.where(condition1 * condition2)\n",
        "    n_true_negative = np.size(y)\n",
        "\n",
        "    # faux positifs : prédits 0 alors que 1 (prêt / peut pas rembourser)\n",
        "    condition1 = (y_true!=y_pred)\n",
        "    condition2 = (y_true==1)\n",
        "    y = np.where(condition1 * condition2)\n",
        "    n_false_positive = np.size(y)\n",
        "\n",
        "    # faux négatifs : prédits 1 alors que 0 (non prêt / peut rembourser)\n",
        "    condition2 =  (y_true==0)\n",
        "    y = np.where(condition1 * condition2)\n",
        "    n_false_negative = np.size(y)\n",
        "\n",
        "    score = (coeff_TP * n_true_positive + coeff_TN * n_true_negative) +\\\n",
        "            (coeff_FP * n_false_positive + coeff_FN * n_false_negative)\n",
        "\n",
        "    score_min = min(coeff_FP,coeff_FN) * np.size(y_true)\n",
        "    score_max = max(coeff_TP,coeff_TN) * np.size(y_true)\n",
        "\n",
        "    score = (score - score_min) / (score_max - score_min) \n",
        "    \n",
        "    return score  "
      ],
      "execution_count": null,
      "outputs": []
    },
    {
      "cell_type": "markdown",
      "metadata": {
        "id": "kZBCLC1CiXA8"
      },
      "source": [
        "## d) scoring personnalisé (2)"
      ]
    },
    {
      "cell_type": "code",
      "metadata": {
        "id": "eoVjqs8oAnsi"
      },
      "source": [
        "X = train_df[feat_col].copy()\n",
        "y = train_df.TARGET.copy()"
      ],
      "execution_count": null,
      "outputs": []
    },
    {
      "cell_type": "markdown",
      "metadata": {
        "id": "--mS4QLtiXA8"
      },
      "source": [
        "### i) définition de la fonction qui va calculer le score"
      ]
    },
    {
      "cell_type": "markdown",
      "metadata": {
        "id": "YWmri96BiXA8"
      },
      "source": [
        "- true positive : prêt remboursé => 2\n",
        "- true negative : pas de prêt et n'aurait pas pu être remboursé => 1\n",
        "- false positive : prêt non remboursé => -2\n",
        "- false negative : pas de prêt alors qu'il aurait été remboursé => -1"
      ]
    },
    {
      "cell_type": "code",
      "metadata": {
        "id": "6uhS6s7LiXA9"
      },
      "source": [
        "def my_score(y_true, y_pred):\n",
        "\n",
        "    coeff_TP = 2\n",
        "    coeff_TN = 1\n",
        "    coeff_FP = -2\n",
        "    coeff_FN = -1\n",
        "\n",
        "    # vrai positifs : prédits 0 et vraiment 0 (prêt / peut rembourser)\n",
        "    condition1 = (y_true==y_pred)\n",
        "    condition2 = (y_true==0)\n",
        "    y = np.where(condition1 * condition2)\n",
        "    n_true_positive = np.size(y)\n",
        "\n",
        "    # vrai négatifs : prédits 1 et vraiment 1 (non prêt / peut pas rembourser)\n",
        "    condition2 =  (y_true==1)\n",
        "    y = np.where(condition1 * condition2)\n",
        "    n_true_negative = np.size(y)\n",
        "\n",
        "    # faux positifs : prédits 0 alors que 1 (prêt / peut pas rembourser)\n",
        "    condition1 = (y_true!=y_pred)\n",
        "    condition2 = (y_true==1)\n",
        "    y = np.where(condition1 * condition2)\n",
        "    n_false_positive = np.size(y)\n",
        "\n",
        "    # faux négatifs : prédits 1 alors que 0 (non prêt / peut rembourser)\n",
        "    condition2 =  (y_true==0)\n",
        "    y = np.where(condition1 * condition2)\n",
        "    n_false_negative = np.size(y)\n",
        "\n",
        "    score = (coeff_TP * n_true_positive + coeff_TN * n_true_negative) +\\\n",
        "            (coeff_FP * n_false_positive + coeff_FN * n_false_negative)\n",
        "\n",
        "    score_min = min(coeff_FP,coeff_FN) * np.size(y_true)\n",
        "    score_max = max(coeff_TP,coeff_TN) * np.size(y_true)\n",
        "\n",
        "    score = (score - score_min) / (score_max - score_min) \n",
        "    \n",
        "    return score  "
      ],
      "execution_count": null,
      "outputs": []
    },
    {
      "cell_type": "markdown",
      "metadata": {
        "id": "3p4ogSHIiXBG"
      },
      "source": [
        "## e) scoring personnalisé (3)"
      ]
    },
    {
      "cell_type": "code",
      "metadata": {
        "id": "u8qCOd6tAoyE"
      },
      "source": [
        "X = train_df[feat_col].copy()\n",
        "y = train_df.TARGET.copy()"
      ],
      "execution_count": null,
      "outputs": []
    },
    {
      "cell_type": "markdown",
      "metadata": {
        "id": "yKqTbf-WiXBH"
      },
      "source": [
        "### i) définition de la fonction qui va calculer le score"
      ]
    },
    {
      "cell_type": "markdown",
      "metadata": {
        "id": "utemalu9iXBH"
      },
      "source": [
        "- true positive : prêt remboursé => 1\n",
        "- true negative : pas de prêt et n'aurait pas pu être remboursé => 1\n",
        "- false positive : prêt non remboursé => -2\n",
        "- false negative : pas de prêt alors qu'il aurait été remboursé => -1"
      ]
    },
    {
      "cell_type": "code",
      "metadata": {
        "id": "9kQ_Nsz1iXBH"
      },
      "source": [
        "def my_score(y_true, y_pred):\n",
        "\n",
        "    coeff_TP = 1\n",
        "    coeff_TN = 1\n",
        "    coeff_FP = -2\n",
        "    coeff_FN = -1\n",
        "\n",
        "    # vrai positifs : prédits 0 et vraiment 0 (prêt / peut rembourser)\n",
        "    condition1 = (y_true==y_pred)\n",
        "    condition2 = (y_true==0)\n",
        "    y = np.where(condition1 * condition2)\n",
        "    n_true_positive = np.size(y)\n",
        "\n",
        "    # vrai négatifs : prédits 1 et vraiment 1 (non prêt / peut pas rembourser)\n",
        "    condition2 =  (y_true==1)\n",
        "    y = np.where(condition1 * condition2)\n",
        "    n_true_negative = np.size(y)\n",
        "\n",
        "    # faux positifs : prédits 0 alors que 1 (prêt / peut pas rembourser)\n",
        "    condition1 = (y_true!=y_pred)\n",
        "    condition2 = (y_true==1)\n",
        "    y = np.where(condition1 * condition2)\n",
        "    n_false_positive = np.size(y)\n",
        "\n",
        "    # faux négatifs : prédits 1 alors que 0 (non prêt / peut rembourser)\n",
        "    condition2 =  (y_true==0)\n",
        "    y = np.where(condition1 * condition2)\n",
        "    n_false_negative = np.size(y)\n",
        "\n",
        "    score = (coeff_TP * n_true_positive + coeff_TN * n_true_negative) +\\\n",
        "            (coeff_FP * n_false_positive + coeff_FN * n_false_negative)\n",
        "\n",
        "    score_min = min(coeff_FP,coeff_FN) * np.size(y_true)\n",
        "    score_max = max(coeff_TP,coeff_TN) * np.size(y_true)\n",
        "\n",
        "    score = (score - score_min) / (score_max - score_min) \n",
        "    \n",
        "    return score  "
      ],
      "execution_count": null,
      "outputs": []
    },
    {
      "cell_type": "markdown",
      "metadata": {
        "id": "g5YbAwgWZqVB"
      },
      "source": [
        "# VI - RandomForestClassifier"
      ]
    },
    {
      "cell_type": "markdown",
      "metadata": {
        "id": "497wXrmXaKjT"
      },
      "source": [
        "class_weight : balanced"
      ]
    },
    {
      "cell_type": "code",
      "metadata": {
        "colab": {
          "base_uri": "https://localhost:8080/"
        },
        "id": "bKQ7LI8ZngwD",
        "outputId": "69580cf9-df3f-4e2e-e377-6bed2fc1874c"
      },
      "source": [
        "X_short, X_rest, y_short, y_rest = train_test_split(\n",
        "    X, y, test_size=0.6, random_state=36)\n",
        "\n",
        "percent_0_all = 100 * y[y==0].size / y.size\n",
        "percent_0_short = 100 * y_short[y_short==0].size / y_short.size\n",
        "print(\"Il y a {:.3f}% de 0 dans l'ensemble de y_target\".format(percent_0_all))\n",
        "print(\"Il y a {:.3f}% de 0 dans l'ensemble de y_short\".format(percent_0_short))"
      ],
      "execution_count": null,
      "outputs": [
        {
          "output_type": "stream",
          "text": [
            "Il y a 91.388% de 0 dans l'ensemble de y_target\n",
            "Il y a 91.399% de 0 dans l'ensemble de y_short\n"
          ],
          "name": "stdout"
        }
      ]
    },
    {
      "cell_type": "code",
      "metadata": {
        "colab": {
          "base_uri": "https://localhost:8080/",
          "height": 484
        },
        "id": "UtyaEb_WSBis",
        "outputId": "793bad91-e311-4bba-cb49-465f9269fa5f"
      },
      "source": [
        "X_train, X_test, y_train, y_test = train_test_split(\n",
        "    X_short, y_short, test_size=0.3, random_state=36)\n",
        "    \n",
        "scorer = make_scorer(roc_auc_score, needs_threshold=True)\n",
        "\n",
        "clf = RandomForestClassifier()\n",
        "params_grid = {'n_estimators': [800],\n",
        "               'max_depth': [10],\n",
        "               'class_weight': ['balanced'],\n",
        "               'random_state': [41] \n",
        "               }\n",
        "\n",
        "grid = GridSearchCV(clf, params_grid, scoring=scorer, \n",
        "                    return_train_score=True)\n",
        "\n",
        "grid.fit(X_train, y_train)\n",
        "\n",
        "y_pred = grid.predict(X_test)\n",
        "\n",
        "labels = np.array([0,1])\n",
        "\n",
        "fig = ConfusionMatrixDisplay(confusion_matrix(y_test,y_pred,normalize='all'),\n",
        "                             labels)\n",
        "figdim, ax = plt.subplots(figsize=(8,8))\n",
        "fig.plot(ax=ax)"
      ],
      "execution_count": null,
      "outputs": [
        {
          "output_type": "execute_result",
          "data": {
            "text/plain": [
              "<sklearn.metrics._plot.confusion_matrix.ConfusionMatrixDisplay at 0x7ff1a61f6090>"
            ]
          },
          "metadata": {
            "tags": []
          },
          "execution_count": 145
        },
        {
          "output_type": "display_data",
          "data": {
            "image/png": "[encoded data removed]",
            "text/plain": [
              "<Figure size 576x576 with 2 Axes>"
            ]
          },
          "metadata": {
            "tags": [],
            "needs_background": "light"
          }
        }
      ]
    },
    {
      "cell_type": "code",
      "metadata": {
        "colab": {
          "base_uri": "https://localhost:8080/",
          "height": 489
        },
        "id": "7eu9GsisNy7N",
        "outputId": "9d7f5f56-7f4c-409f-aa9a-17fc6743499e"
      },
      "source": [
        "# matrice de confusion avec sample_weight\n",
        "labels = np.array([0,1])\n",
        "\n",
        "weight_0 = (y_test==1).sum() / y_test.size\n",
        "weight_1 = (y_test==0).sum() / y_test.size\n",
        "weights = np.where(y_test==0, weight_0,weight_1)\n",
        "\n",
        "fig = ConfusionMatrixDisplay(confusion_matrix(y_test,y_pred,normalize='all',\n",
        "                                              sample_weight=weights),labels)\n",
        "figdim, ax = plt.subplots(figsize=(8,8))\n",
        "fig.plot(ax=ax)"
      ],
      "execution_count": null,
      "outputs": [
        {
          "output_type": "execute_result",
          "data": {
            "text/plain": [
              "<sklearn.metrics._plot.confusion_matrix.ConfusionMatrixDisplay at 0x7ff1a5d83f50>"
            ]
          },
          "metadata": {
            "tags": []
          },
          "execution_count": 146
        },
        {
          "output_type": "display_data",
          "data": {
            "image/png": "[encoded data removed]",
            "text/plain": [
              "<Figure size 576x576 with 2 Axes>"
            ]
          },
          "metadata": {
            "tags": [],
            "needs_background": "light"
          }
        }
      ]
    },
    {
      "cell_type": "markdown",
      "metadata": {
        "id": "xTcYFwhy0mNV"
      },
      "source": [
        "undersampling"
      ]
    },
    {
      "cell_type": "code",
      "metadata": {
        "id": "Cjd69NV60uKn"
      },
      "source": [
        "undersample = RandomUnderSampler(sampling_strategy='majority')\n",
        "\n",
        "X_under, y_under = undersample.fit_resample(X, y)"
      ],
      "execution_count": null,
      "outputs": []
    },
    {
      "cell_type": "code",
      "metadata": {
        "colab": {
          "base_uri": "https://localhost:8080/"
        },
        "id": "cvXJUtim0uKp",
        "outputId": "832a4e1a-cfa9-486c-e072-057448d048f1"
      },
      "source": [
        "percent_0_all = 100 * y_under[y_under==0].size / y_under.size\n",
        "print(\"Il y a {:.3f}% de 0 dans l'ensemble de y_under\".format(percent_0_all))"
      ],
      "execution_count": null,
      "outputs": [
        {
          "output_type": "stream",
          "text": [
            "Il y a 50.000% de 0 dans l'ensemble de y_under\n"
          ],
          "name": "stdout"
        }
      ]
    },
    {
      "cell_type": "code",
      "metadata": {
        "colab": {
          "base_uri": "https://localhost:8080/",
          "height": 484
        },
        "id": "MFNOR6lH0x_V",
        "outputId": "bd3bfacf-a148-4410-d50a-88e4aaf8a648"
      },
      "source": [
        "X_train, X_test, y_train, y_test = train_test_split(\n",
        "    X_under, y_under, test_size=0.3, random_state=36)\n",
        "    \n",
        "scorer = make_scorer(roc_auc_score, needs_threshold=True)\n",
        "\n",
        "clf = RandomForestClassifier()\n",
        "params_grid = {'n_estimators': [800],\n",
        "               'max_depth': [10],\n",
        "               'class_weight': ['balanced'],\n",
        "               'random_state': [41] \n",
        "               }\n",
        "\n",
        "grid = GridSearchCV(clf, params_grid, scoring=scorer, \n",
        "                    return_train_score=True)\n",
        "\n",
        "grid.fit(X_train, y_train)\n",
        "\n",
        "y_pred = grid.predict(X_test)\n",
        "\n",
        "labels = np.array([0,1])\n",
        "\n",
        "fig = ConfusionMatrixDisplay(confusion_matrix(y_test,y_pred,normalize='all'),\n",
        "                             labels)\n",
        "figdim, ax = plt.subplots(figsize=(8,8))\n",
        "fig.plot(ax=ax)"
      ],
      "execution_count": null,
      "outputs": [
        {
          "output_type": "execute_result",
          "data": {
            "text/plain": [
              "<sklearn.metrics._plot.confusion_matrix.ConfusionMatrixDisplay at 0x7ff1ab78e5d0>"
            ]
          },
          "metadata": {
            "tags": []
          },
          "execution_count": 143
        },
        {
          "output_type": "display_data",
          "data": {
            "image/png": "[encoded data removed]",
            "text/plain": [
              "<Figure size 576x576 with 2 Axes>"
            ]
          },
          "metadata": {
            "tags": [],
            "needs_background": "light"
          }
        }
      ]
    }
  ]
}